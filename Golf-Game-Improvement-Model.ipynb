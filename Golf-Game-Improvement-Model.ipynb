{
 "cells": [
  {
   "cell_type": "code",
   "execution_count": 1,
   "metadata": {},
   "outputs": [],
   "source": [
    "import pandas as pd\n",
    "import matplotlib.pyplot as mpl\n",
    "import seaborn as sns\n",
    "import matplotlib.pyplot as plt\n",
    "import numpy as np\n",
    "import pickle\n",
    "import cleandata\n",
    "%matplotlib inline"
   ]
  },
  {
   "cell_type": "markdown",
   "metadata": {},
   "source": [
    "# Golf Game Improvement Model\n"
   ]
  },
  {
   "cell_type": "markdown",
   "metadata": {},
   "source": [
    "### Personal Data\n",
    "\n",
    "Each record in my data set represents a round of golf that I played and includes attributes about that round such as the score and stats (e.g. number of putts, number of fairways)."
   ]
  },
  {
   "cell_type": "code",
   "execution_count": 2,
   "metadata": {},
   "outputs": [
    {
     "data": {
      "text/html": [
       "<div>\n",
       "<style scoped>\n",
       "    .dataframe tbody tr th:only-of-type {\n",
       "        vertical-align: middle;\n",
       "    }\n",
       "\n",
       "    .dataframe tbody tr th {\n",
       "        vertical-align: top;\n",
       "    }\n",
       "\n",
       "    .dataframe thead th {\n",
       "        text-align: right;\n",
       "    }\n",
       "</style>\n",
       "<table border=\"1\" class=\"dataframe\">\n",
       "  <thead>\n",
       "    <tr style=\"text-align: right;\">\n",
       "      <th></th>\n",
       "      <th>Date</th>\n",
       "      <th>Course</th>\n",
       "      <th>Course Rating</th>\n",
       "      <th>Par</th>\n",
       "      <th>Score</th>\n",
       "      <th>Putts</th>\n",
       "      <th>Fairways</th>\n",
       "      <th>Greens</th>\n",
       "      <th>Holes Played</th>\n",
       "      <th>Relative Score</th>\n",
       "      <th>Relative Score w/ Rating</th>\n",
       "    </tr>\n",
       "  </thead>\n",
       "  <tbody>\n",
       "    <tr>\n",
       "      <th>0</th>\n",
       "      <td>2019-07-20</td>\n",
       "      <td>Wilshire Country Club</td>\n",
       "      <td>71.8</td>\n",
       "      <td>71</td>\n",
       "      <td>98</td>\n",
       "      <td>34.0</td>\n",
       "      <td>5.0</td>\n",
       "      <td>4.0</td>\n",
       "      <td>18</td>\n",
       "      <td>9</td>\n",
       "      <td>26.2</td>\n",
       "    </tr>\n",
       "    <tr>\n",
       "      <th>2</th>\n",
       "      <td>2019-07-27</td>\n",
       "      <td>Wilshire Country Club</td>\n",
       "      <td>71.8</td>\n",
       "      <td>71</td>\n",
       "      <td>98</td>\n",
       "      <td>33.0</td>\n",
       "      <td>10.0</td>\n",
       "      <td>3.0</td>\n",
       "      <td>18</td>\n",
       "      <td>20</td>\n",
       "      <td>26.2</td>\n",
       "    </tr>\n",
       "    <tr>\n",
       "      <th>3</th>\n",
       "      <td>2019-06-16</td>\n",
       "      <td>Sandpiper</td>\n",
       "      <td>75.1</td>\n",
       "      <td>72</td>\n",
       "      <td>86</td>\n",
       "      <td>32.0</td>\n",
       "      <td>5.0</td>\n",
       "      <td>4.0</td>\n",
       "      <td>18</td>\n",
       "      <td>15</td>\n",
       "      <td>10.9</td>\n",
       "    </tr>\n",
       "    <tr>\n",
       "      <th>4</th>\n",
       "      <td>2019-08-17</td>\n",
       "      <td>Wilshire Country Club</td>\n",
       "      <td>71.8</td>\n",
       "      <td>71</td>\n",
       "      <td>91</td>\n",
       "      <td>29.0</td>\n",
       "      <td>5.0</td>\n",
       "      <td>0.0</td>\n",
       "      <td>18</td>\n",
       "      <td>18</td>\n",
       "      <td>19.2</td>\n",
       "    </tr>\n",
       "    <tr>\n",
       "      <th>5</th>\n",
       "      <td>2019-08-24</td>\n",
       "      <td>Wilshire Country Club</td>\n",
       "      <td>71.8</td>\n",
       "      <td>71</td>\n",
       "      <td>83</td>\n",
       "      <td>28.0</td>\n",
       "      <td>5.0</td>\n",
       "      <td>4.0</td>\n",
       "      <td>18</td>\n",
       "      <td>12</td>\n",
       "      <td>11.2</td>\n",
       "    </tr>\n",
       "  </tbody>\n",
       "</table>\n",
       "</div>"
      ],
      "text/plain": [
       "        Date                 Course  Course Rating  Par  Score  Putts  \\\n",
       "0 2019-07-20  Wilshire Country Club           71.8   71     98   34.0   \n",
       "2 2019-07-27  Wilshire Country Club           71.8   71     98   33.0   \n",
       "3 2019-06-16              Sandpiper           75.1   72     86   32.0   \n",
       "4 2019-08-17  Wilshire Country Club           71.8   71     91   29.0   \n",
       "5 2019-08-24  Wilshire Country Club           71.8   71     83   28.0   \n",
       "\n",
       "   Fairways  Greens  Holes Played  Relative Score  Relative Score w/ Rating  \n",
       "0       5.0     4.0            18               9                      26.2  \n",
       "2      10.0     3.0            18              20                      26.2  \n",
       "3       5.0     4.0            18              15                      10.9  \n",
       "4       5.0     0.0            18              18                      19.2  \n",
       "5       5.0     4.0            18              12                      11.2  "
      ]
     },
     "execution_count": 2,
     "metadata": {},
     "output_type": "execute_result"
    }
   ],
   "source": [
    "# Import Round Data\n",
    "personal_scores = cleandata.load_personal_data()\n",
    "personal_scores.head()"
   ]
  },
  {
   "cell_type": "markdown",
   "metadata": {},
   "source": [
    "**Scores Plotted Over Time**"
   ]
  },
  {
   "cell_type": "code",
   "execution_count": 3,
   "metadata": {},
   "outputs": [
    {
     "data": {
      "text/plain": [
       "<matplotlib.axes._subplots.AxesSubplot at 0x1a24046ed0>"
      ]
     },
     "execution_count": 3,
     "metadata": {},
     "output_type": "execute_result"
    },
    {
     "data": {
      "image/png": "[encoded data removed]",
      "text/plain": [
       "<Figure size 432x288 with 1 Axes>"
      ]
     },
     "metadata": {
      "needs_background": "light"
     },
     "output_type": "display_data"
    }
   ],
   "source": [
    "personal_scores.plot(x=\"Date\", y=\"Score\")"
   ]
  },
  {
   "cell_type": "markdown",
   "metadata": {},
   "source": [
    "**Distribution of Scores**"
   ]
  },
  {
   "cell_type": "code",
   "execution_count": 4,
   "metadata": {},
   "outputs": [
    {
     "data": {
      "text/plain": [
       "<matplotlib.axes._subplots.AxesSubplot at 0x1a247dcb10>"
      ]
     },
     "execution_count": 4,
     "metadata": {},
     "output_type": "execute_result"
    },
    {
     "data": {
      "image/png": "[encoded data removed]",
      "text/plain": [
       "<Figure size 432x288 with 1 Axes>"
      ]
     },
     "metadata": {
      "needs_background": "light"
     },
     "output_type": "display_data"
    }
   ],
   "source": [
    "# Distribution of scores\n",
    "personal_scores['Score'].hist()"
   ]
  },
  {
   "cell_type": "markdown",
   "metadata": {},
   "source": [
    "**Average Stats Given Score Ranges**"
   ]
  },
  {
   "cell_type": "code",
   "execution_count": 5,
   "metadata": {},
   "outputs": [
    {
     "data": {
      "text/html": [
       "<div>\n",
       "<style scoped>\n",
       "    .dataframe tbody tr th:only-of-type {\n",
       "        vertical-align: middle;\n",
       "    }\n",
       "\n",
       "    .dataframe tbody tr th {\n",
       "        vertical-align: top;\n",
       "    }\n",
       "\n",
       "    .dataframe thead th {\n",
       "        text-align: right;\n",
       "    }\n",
       "</style>\n",
       "<table border=\"1\" class=\"dataframe\">\n",
       "  <thead>\n",
       "    <tr style=\"text-align: right;\">\n",
       "      <th></th>\n",
       "      <th>80s</th>\n",
       "      <th>90s</th>\n",
       "    </tr>\n",
       "  </thead>\n",
       "  <tbody>\n",
       "    <tr>\n",
       "      <th>Putts</th>\n",
       "      <td>30.571429</td>\n",
       "      <td>34.000000</td>\n",
       "    </tr>\n",
       "    <tr>\n",
       "      <th>Fairways</th>\n",
       "      <td>5.857143</td>\n",
       "      <td>5.833333</td>\n",
       "    </tr>\n",
       "    <tr>\n",
       "      <th>Greens</th>\n",
       "      <td>4.000000</td>\n",
       "      <td>3.166667</td>\n",
       "    </tr>\n",
       "  </tbody>\n",
       "</table>\n",
       "</div>"
      ],
      "text/plain": [
       "                80s        90s\n",
       "Putts     30.571429  34.000000\n",
       "Fairways   5.857143   5.833333\n",
       "Greens     4.000000   3.166667"
      ]
     },
     "execution_count": 5,
     "metadata": {},
     "output_type": "execute_result"
    }
   ],
   "source": [
    "def find_stats(input_score):\n",
    "    df = personal_scores[(personal_scores[\"Score\"] > input_score) & (personal_scores[\"Score\"] < input_score + 10) & (personal_scores[\"Holes Played\"] == 18)]\n",
    "    df = pd.DataFrame(df[['Putts','Fairways','Greens']].mean())\n",
    "    df.columns = [str(input_score) + 's']\n",
    "    return df\n",
    "\n",
    "shoot_80s = find_stats(input_score = 80)\n",
    "shoot_90s = find_stats(input_score = 90)\n",
    "shoot_80s.merge(shoot_90s, left_index=True, right_index = True)"
   ]
  },
  {
   "cell_type": "markdown",
   "metadata": {},
   "source": [
    "**Correlation Matrix of Scores and Stats**"
   ]
  },
  {
   "cell_type": "code",
   "execution_count": 6,
   "metadata": {},
   "outputs": [
    {
     "data": {
      "text/plain": [
       "<matplotlib.axes._subplots.AxesSubplot at 0x1a248f5b50>"
      ]
     },
     "execution_count": 6,
     "metadata": {},
     "output_type": "execute_result"
    },
    {
     "data": {
      "image/png": "[encoded data removed]",
      "text/plain": [
       "<Figure size 432x288 with 2 Axes>"
      ]
     },
     "metadata": {
      "needs_background": "light"
     },
     "output_type": "display_data"
    }
   ],
   "source": [
    "correlations = personal_scores[[\"Putts\", \"Fairways\", \"Greens\", \"Score\"]].corr()\n",
    "sns.heatmap(correlations, cmap='coolwarm')"
   ]
  },
  {
   "cell_type": "markdown",
   "metadata": {},
   "source": [
    "Putts is the most highly correlated skill with Score. As a players number of Putts increase, the score also increases. Greens has a negative correlation with Score. As a players number of Greens increases, their score decreases. Fairways has the weakest correlation with Score."
   ]
  },
  {
   "cell_type": "markdown",
   "metadata": {},
   "source": [
    "**Scatterplot: The Relationship Between Stats and Score**"
   ]
  },
  {
   "cell_type": "code",
   "execution_count": 7,
   "metadata": {},
   "outputs": [
    {
     "data": {
      "text/plain": [
       "<matplotlib.axes._subplots.AxesSubplot at 0x1a24af0650>"
      ]
     },
     "execution_count": 7,
     "metadata": {},
     "output_type": "execute_result"
    },
    {
     "data": {
      "image/png": "[encoded data removed]",
      "text/plain": [
       "<Figure size 1152x216 with 3 Axes>"
      ]
     },
     "metadata": {
      "needs_background": "light"
     },
     "output_type": "display_data"
    }
   ],
   "source": [
    "fig, axs = plt.subplots(1, 3, sharey=False,figsize=(16, 3))\n",
    "sns.regplot(x=personal_scores.Putts, y=personal_scores.Score, ax=axs[0])\n",
    "sns.regplot(x=personal_scores.Fairways, y=personal_scores.Score, ax=axs[1])\n",
    "sns.regplot(x=personal_scores.Greens, y=personal_scores.Score, ax=axs[2])"
   ]
  },
  {
   "cell_type": "markdown",
   "metadata": {},
   "source": [
    "### PGA Tour Data\n",
    "\n",
    "Each record in this PGA Tour dataset represents a player and a summary of statistics for all the rounds they played between 2010 and 2018. Let's see how their stats compare to my stats."
   ]
  },
  {
   "cell_type": "code",
   "execution_count": 8,
   "metadata": {},
   "outputs": [],
   "source": [
    "# Import PGA Tour Data\n",
    "pro_scores = cleandata.load_pro_data()"
   ]
  },
  {
   "cell_type": "markdown",
   "metadata": {},
   "source": [
    "**Distribution of Scores**"
   ]
  },
  {
   "cell_type": "code",
   "execution_count": 9,
   "metadata": {},
   "outputs": [
    {
     "data": {
      "text/plain": [
       "<matplotlib.axes._subplots.AxesSubplot at 0x1a24bd2250>"
      ]
     },
     "execution_count": 9,
     "metadata": {},
     "output_type": "execute_result"
    },
    {
     "data": {
      "image/png": "[encoded data removed]",
      "text/plain": [
       "<Figure size 432x288 with 1 Axes>"
      ]
     },
     "metadata": {
      "needs_background": "light"
     },
     "output_type": "display_data"
    }
   ],
   "source": [
    "pro_scores['Score'].plot(kind='hist')"
   ]
  },
  {
   "cell_type": "markdown",
   "metadata": {},
   "source": [
    "**Average Stats Given Scores**"
   ]
  },
  {
   "cell_type": "code",
   "execution_count": 10,
   "metadata": {},
   "outputs": [
    {
     "data": {
      "text/html": [
       "<div>\n",
       "<style scoped>\n",
       "    .dataframe tbody tr th:only-of-type {\n",
       "        vertical-align: middle;\n",
       "    }\n",
       "\n",
       "    .dataframe tbody tr th {\n",
       "        vertical-align: top;\n",
       "    }\n",
       "\n",
       "    .dataframe thead th {\n",
       "        text-align: right;\n",
       "    }\n",
       "</style>\n",
       "<table border=\"1\" class=\"dataframe\">\n",
       "  <thead>\n",
       "    <tr style=\"text-align: right;\">\n",
       "      <th></th>\n",
       "      <th>Fairways</th>\n",
       "      <th>Greens</th>\n",
       "      <th>Holes Played</th>\n",
       "      <th>Putts</th>\n",
       "      <th>Score</th>\n",
       "    </tr>\n",
       "  </thead>\n",
       "  <tbody>\n",
       "    <tr>\n",
       "      <th>69</th>\n",
       "      <td>8.668312</td>\n",
       "      <td>12.181105</td>\n",
       "      <td>18.0</td>\n",
       "      <td>28.902197</td>\n",
       "      <td>69.676947</td>\n",
       "    </tr>\n",
       "    <tr>\n",
       "      <th>70</th>\n",
       "      <td>8.689830</td>\n",
       "      <td>11.945433</td>\n",
       "      <td>18.0</td>\n",
       "      <td>29.111790</td>\n",
       "      <td>70.601705</td>\n",
       "    </tr>\n",
       "    <tr>\n",
       "      <th>71</th>\n",
       "      <td>8.527404</td>\n",
       "      <td>11.660652</td>\n",
       "      <td>18.0</td>\n",
       "      <td>29.246195</td>\n",
       "      <td>71.385104</td>\n",
       "    </tr>\n",
       "    <tr>\n",
       "      <th>72</th>\n",
       "      <td>8.320646</td>\n",
       "      <td>11.344292</td>\n",
       "      <td>18.0</td>\n",
       "      <td>29.486923</td>\n",
       "      <td>72.297560</td>\n",
       "    </tr>\n",
       "    <tr>\n",
       "      <th>73</th>\n",
       "      <td>8.132400</td>\n",
       "      <td>10.861457</td>\n",
       "      <td>18.0</td>\n",
       "      <td>29.327143</td>\n",
       "      <td>73.219714</td>\n",
       "    </tr>\n",
       "    <tr>\n",
       "      <th>74</th>\n",
       "      <td>6.187300</td>\n",
       "      <td>9.720000</td>\n",
       "      <td>18.0</td>\n",
       "      <td>28.905000</td>\n",
       "      <td>74.331000</td>\n",
       "    </tr>\n",
       "  </tbody>\n",
       "</table>\n",
       "</div>"
      ],
      "text/plain": [
       "    Fairways     Greens  Holes Played      Putts      Score\n",
       "69  8.668312  12.181105          18.0  28.902197  69.676947\n",
       "70  8.689830  11.945433          18.0  29.111790  70.601705\n",
       "71  8.527404  11.660652          18.0  29.246195  71.385104\n",
       "72  8.320646  11.344292          18.0  29.486923  72.297560\n",
       "73  8.132400  10.861457          18.0  29.327143  73.219714\n",
       "74  6.187300   9.720000          18.0  28.905000  74.331000"
      ]
     },
     "execution_count": 10,
     "metadata": {},
     "output_type": "execute_result"
    }
   ],
   "source": [
    "def find_avg_stats(score):\n",
    "    stats = pro_scores[(pro_scores['Score'] >= score) & (pro_scores['Score'] < (score+1))].mean()\n",
    "    return stats.rename(score)\n",
    "\n",
    "attributes = pd.DataFrame()\n",
    "for i in range(69,75):\n",
    "    stats = find_avg_stats(i)\n",
    "    attributes = attributes.append(stats)\n",
    "    \n",
    "attributes"
   ]
  },
  {
   "cell_type": "markdown",
   "metadata": {},
   "source": [
    "### Adding Pro Scores to My Scores\n",
    "\n",
    "By adding in average stats for professional golfers, I can create a more robust model that works for my scores as well as the low scores that professionals shoot, and hopefully the scores in between too."
   ]
  },
  {
   "cell_type": "code",
   "execution_count": 11,
   "metadata": {},
   "outputs": [],
   "source": [
    "new = pd.DataFrame()\n",
    "for i in range(70,75):\n",
    "    test = pro_scores[(pro_scores['Score'] >= i) & (pro_scores['Score'] < (i+1))].sample(n=2, random_state=24)\n",
    "    new = new.append(test, ignore_index = True)\n",
    "personal_scores_added_pros = pd.concat([personal_scores,new])"
   ]
  },
  {
   "cell_type": "markdown",
   "metadata": {},
   "source": [
    "**Scatterplot: The Relationship Between Stats and Score**"
   ]
  },
  {
   "cell_type": "code",
   "execution_count": 12,
   "metadata": {},
   "outputs": [
    {
     "data": {
      "text/plain": [
       "<matplotlib.axes._subplots.AxesSubplot at 0x1a24d2a810>"
      ]
     },
     "execution_count": 12,
     "metadata": {},
     "output_type": "execute_result"
    },
    {
     "data": {
      "image/png": "[encoded data removed]",
      "text/plain": [
       "<Figure size 1152x216 with 3 Axes>"
      ]
     },
     "metadata": {
      "needs_background": "light"
     },
     "output_type": "display_data"
    }
   ],
   "source": [
    "fig, axs = plt.subplots(1, 3, sharey=False,figsize=(16, 3))\n",
    "sns.regplot(x=personal_scores_added_pros.Putts, y=personal_scores_added_pros.Score, ax=axs[0])\n",
    "sns.regplot(x=personal_scores_added_pros.Fairways, y=personal_scores_added_pros.Score, ax=axs[1])\n",
    "sns.regplot(x=personal_scores_added_pros.Greens, y=personal_scores_added_pros.Score, ax=axs[2])"
   ]
  },
  {
   "cell_type": "markdown",
   "metadata": {},
   "source": [
    "### Applying a Linear Model\n",
    "\n",
    "The scatterplots show a possible linear relationship between each of the stats and the overall score. I fit the data with a model to understand the linear relationship between putts, greens, and fairways, with a target variable of score."
   ]
  },
  {
   "cell_type": "code",
   "execution_count": 13,
   "metadata": {},
   "outputs": [],
   "source": [
    "from sklearn.linear_model import LinearRegression\n",
    "from sklearn.model_selection import cross_validate, KFold"
   ]
  },
  {
   "cell_type": "code",
   "execution_count": 14,
   "metadata": {},
   "outputs": [],
   "source": [
    "def fit_and_score_linear_model(data,target):\n",
    "    \n",
    "    # Define features\n",
    "    features = ['Putts','Fairways','Greens']\n",
    "    X = data[features]\n",
    "    y = data[target]\n",
    "    \n",
    "    # Fit linear regression model\n",
    "    lr = LinearRegression()\n",
    "    lr.fit(X,y)\n",
    "    y_pred = lr.predict(X)\n",
    "    r2 = lr.score(X,y)\n",
    "    \n",
    "    # Cross validate model\n",
    "    kf = KFold(n_splits = 5, shuffle=True, random_state=24)\n",
    "    cv_results = cross_validate(lr,X,y,scoring='r2',cv=kf)\n",
    "    \n",
    "    print('r2 training: '+str(r2))\n",
    "    print('r2 cross val: ' +str(cv_results['test_score'].mean()))\n",
    "    \n",
    "    return {'model':lr, 'predicted': y_pred}"
   ]
  },
  {
   "cell_type": "code",
   "execution_count": 15,
   "metadata": {},
   "outputs": [
    {
     "name": "stdout",
     "output_type": "stream",
     "text": [
      "r2 training: 0.5005286435494004\n",
      "r2 cross val: -2.370294280122853\n"
     ]
    }
   ],
   "source": [
    "test1 = fit_and_score_linear_model(personal_scores,'Score')"
   ]
  },
  {
   "cell_type": "code",
   "execution_count": 16,
   "metadata": {
    "scrolled": true
   },
   "outputs": [
    {
     "name": "stdout",
     "output_type": "stream",
     "text": [
      "r2 training: 0.9205079679115369\n",
      "r2 cross val: 0.8118472290929105\n"
     ]
    }
   ],
   "source": [
    "test2 = fit_and_score_linear_model(personal_scores_added_pros,'Score')"
   ]
  },
  {
   "cell_type": "code",
   "execution_count": 17,
   "metadata": {},
   "outputs": [
    {
     "name": "stdout",
     "output_type": "stream",
     "text": [
      "r2 training: 0.509141104502872\n",
      "r2 cross val: -1.3002199380952846\n"
     ]
    }
   ],
   "source": [
    "test3 = fit_and_score_linear_model(personal_scores,'Relative Score w/ Rating')"
   ]
  },
  {
   "cell_type": "code",
   "execution_count": 18,
   "metadata": {},
   "outputs": [],
   "source": [
    "IDEAL_MODEL = test2['model']\n",
    "with open('exports/Score.pkl', 'wb') as picklefile:\n",
    "    pickle.dump(IDEAL_MODEL, picklefile)"
   ]
  },
  {
   "cell_type": "code",
   "execution_count": 19,
   "metadata": {},
   "outputs": [
    {
     "name": "stdout",
     "output_type": "stream",
     "text": [
      "coeffs: [ 1.23777615 -0.06265284 -1.91760438]\n",
      "intercept: 58.10202779759855\n"
     ]
    }
   ],
   "source": [
    "print('coeffs: ' + str(IDEAL_MODEL.coef_))\n",
    "print('intercept: ' + str(IDEAL_MODEL.intercept_))"
   ]
  },
  {
   "cell_type": "markdown",
   "metadata": {},
   "source": [
    "The best performing model uses the data that has pro scores included. The coefficients from the linear model can be used to create an equation that predicts the score based on the number of putts, fairways, and greens. The number of greens hit has the biggest impact on overall score."
   ]
  },
  {
   "cell_type": "markdown",
   "metadata": {},
   "source": [
    "$$y = 1.2p - .06f - 1.9g + 58$$"
   ]
  },
  {
   "cell_type": "markdown",
   "metadata": {},
   "source": [
    "### Applying a Random Forest Regressor\n",
    "\n",
    "In an attempt to increase the accuracy of my predictions, I fitted the same data with a random forest decision tree. The model produced a very high of training R2 of .97 but the score dropped significantly after being cross validated, which is a sign that the model may have overfit the data."
   ]
  },
  {
   "cell_type": "code",
   "execution_count": 20,
   "metadata": {},
   "outputs": [],
   "source": [
    "from sklearn.ensemble import RandomForestRegressor\n",
    "\n",
    "features = ['Putts','Fairways','Greens']\n",
    "target = 'Score'\n",
    "X = personal_scores_added_pros[features]\n",
    "y = personal_scores_added_pros[target]"
   ]
  },
  {
   "cell_type": "code",
   "execution_count": 21,
   "metadata": {},
   "outputs": [
    {
     "data": {
      "text/plain": [
       "0.9791592310938143"
      ]
     },
     "execution_count": 21,
     "metadata": {},
     "output_type": "execute_result"
    }
   ],
   "source": [
    "rf = RandomForestRegressor()\n",
    "rf.fit(X,y)\n",
    "rf.score(X,y)"
   ]
  },
  {
   "cell_type": "code",
   "execution_count": 22,
   "metadata": {},
   "outputs": [
    {
     "name": "stdout",
     "output_type": "stream",
     "text": [
      "0.7902448905910285\n"
     ]
    }
   ],
   "source": [
    "\n",
    "kf = KFold(n_splits = 5, shuffle=True, random_state=24)\n",
    "cv_results = cross_validate(rf,X,y,scoring='r2',cv=kf,return_estimator=True)\n",
    "print(cv_results['test_score'].mean())"
   ]
  },
  {
   "cell_type": "markdown",
   "metadata": {},
   "source": [
    "### Output and Optimization\n",
    "\n",
    "There are a few ways to use the model in order to generate a prediction. You can use the linear equation to solve for the target score given a specific stats. Or you can provide a range for each stat and use an optimization algorithm to predict the lowest score possible.\n"
   ]
  },
  {
   "cell_type": "markdown",
   "metadata": {},
   "source": [
    "**Predict Target Score Based On Stats**"
   ]
  },
  {
   "cell_type": "code",
   "execution_count": 26,
   "metadata": {},
   "outputs": [
    {
     "data": {
      "text/plain": [
       "86.32461644622471"
      ]
     },
     "execution_count": 26,
     "metadata": {},
     "output_type": "execute_result"
    }
   ],
   "source": [
    "IDEAL_MODEL.predict(pd.DataFrame({'Putts': [34.0],'Fairways': [7.0],'Greens': [7.0]}))[0]"
   ]
  },
  {
   "cell_type": "markdown",
   "metadata": {},
   "source": [
    "**Predict Target Score Based On Range of Stats**"
   ]
  },
  {
   "cell_type": "code",
   "execution_count": 27,
   "metadata": {},
   "outputs": [
    {
     "data": {
      "text/plain": [
       "77.53830308169394"
      ]
     },
     "execution_count": 27,
     "metadata": {},
     "output_type": "execute_result"
    }
   ],
   "source": [
    "from scipy.optimize import linprog\n",
    "\n",
    "c = IDEAL_MODEL.coef_\n",
    "putts_bounds = (30,32)\n",
    "fairways_bounds = (5,7)\n",
    "greens_bounds = (6,9)\n",
    "result = linprog(c,  bounds=[putts_bounds, fairways_bounds, greens_bounds])\n",
    "output = result.fun + IDEAL_MODEL.intercept_\n",
    "output"
   ]
  },
  {
   "cell_type": "markdown",
   "metadata": {},
   "source": [
    "**Predict Target Score Based On Range of Stats**"
   ]
  },
  {
   "cell_type": "code",
   "execution_count": 25,
   "metadata": {},
   "outputs": [
    {
     "name": "stdout",
     "output_type": "stream",
     "text": [
      "Putts r2: 0.4376226712762414\n",
      "Fairways r2: 0.33419701771183197\n",
      "Greens r2: 0.8258304537080158\n"
     ]
    }
   ],
   "source": [
    "features = ['Putts','Fairways','Greens']\n",
    "X = personal_scores_added_pros['Score'].values.reshape(-1, 1)\n",
    "models = {}\n",
    "for feature in features:\n",
    "    y = personal_scores_added_pros[feature]\n",
    "    lr = LinearRegression()\n",
    "    lr.fit(X,y)\n",
    "    y_pred = lr.predict(np.array([72]).reshape(-1, 1))\n",
    "    r2 = lr.score(X,y)\n",
    "    print(feature + ' r2: ' + str(r2))\n",
    "    models[feature] = lr\n",
    "    with open('exports/'+feature+'.pkl', 'wb') as picklefile:\n",
    "        pickle.dump(lr, picklefile)\n",
    "    \n",
    "def get_target_stats(target_score):\n",
    "    target_stats = []\n",
    "    for feature in features:\n",
    "        target_stat = models[feature].predict(np.array([target_score]).reshape(-1, 1))\n",
    "        target_stats.append(target_stat[0])\n",
    "    \n",
    "    return target_stats"
   ]
  },
  {
   "cell_type": "code",
   "execution_count": 28,
   "metadata": {},
   "outputs": [
    {
     "data": {
      "text/plain": [
       "[32.23043407793887, 6.049196792958897, 4.275130267447736]"
      ]
     },
     "execution_count": 28,
     "metadata": {},
     "output_type": "execute_result"
    }
   ],
   "source": [
    "get_target_stats(90)"
   ]
  },
  {
   "cell_type": "markdown",
   "metadata": {},
   "source": [
    "### Discussion\n",
    "\n",
    "There are several areas where this model could be improved or expanded in the future...\n",
    "\n",
    "More data - The sample size is small, which leads to inconsistent results when trying to cross validate the model and find the out-of-sample accuracy. The values change drastically dending on what subset of the data is selected in the KFolds.\n",
    "\n",
    "Representative of all golfers - The data used to train the model is only representative of my skills and the skills of touring professions, leaving a big gap in the dataset. The model needs additional samples from advanced players who shoot between 75 - 80 and beginner players who shoot > 100. Filling in this gap could allow me to explore different models that may result in a more accurate prediction.\n",
    "\n",
    "Consistent sampling methods - The data for my personal scores were collected in a different way than the data for the pro scores. Each sample in of pro scores was an average of stats over many rounds. Each sample of my scores represented a specific round I played. Taking averages can remove important variance in the data that can be used to make more accurate predictions.\n",
    "\n",
    "More features - There is potential to create/modify features that are more closely related to score. For example, not all courses have the same number of fairways. By creating a feature that details the number of fairways on the course, we could transform the Fairways stat into a percentage rather than an absolute number."
   ]
  }
 ],
 "metadata": {
  "kernelspec": {
   "display_name": "Python 3",
   "language": "python",
   "name": "python3"
  },
  "language_info": {
   "codemirror_mode": {
    "name": "ipython",
    "version": 3
   },
   "file_extension": ".py",
   "mimetype": "text/x-python",
   "name": "python",
   "nbconvert_exporter": "python",
   "pygments_lexer": "ipython3",
   "version": "3.7.6"
  }
 },
 "nbformat": 4,
 "nbformat_minor": 4
}
