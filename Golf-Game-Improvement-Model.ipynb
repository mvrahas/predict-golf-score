{
 "cells": [
  {
   "cell_type": "code",
   "execution_count": 73,
   "metadata": {},
   "outputs": [],
   "source": [
    "import pandas as pd\n",
    "import matplotlib.pyplot as mpl\n",
    "import seaborn as sns\n",
    "import matplotlib.pyplot as plt\n",
    "import numpy as np\n",
    "import pickle\n",
    "import cleandata\n",
    "%matplotlib inline"
   ]
  },
  {
   "cell_type": "markdown",
   "metadata": {},
   "source": [
    "# Golf Game Improvement Model\n"
   ]
  },
  {
   "cell_type": "markdown",
   "metadata": {},
   "source": [
    "### Personal Data\n",
    "\n",
    "Each record in my data set represents a round of golf that I played and includes details about that round such as the score and stats (e.g. number of putts, number of fairways). I cleaned the data below..."
   ]
  },
  {
   "cell_type": "code",
   "execution_count": 85,
   "metadata": {},
   "outputs": [
    {
     "data": {
      "text/html": [
       "<div>\n",
       "<style scoped>\n",
       "    .dataframe tbody tr th:only-of-type {\n",
       "        vertical-align: middle;\n",
       "    }\n",
       "\n",
       "    .dataframe tbody tr th {\n",
       "        vertical-align: top;\n",
       "    }\n",
       "\n",
       "    .dataframe thead th {\n",
       "        text-align: right;\n",
       "    }\n",
       "</style>\n",
       "<table border=\"1\" class=\"dataframe\">\n",
       "  <thead>\n",
       "    <tr style=\"text-align: right;\">\n",
       "      <th></th>\n",
       "      <th>Date</th>\n",
       "      <th>Course</th>\n",
       "      <th>Course Rating</th>\n",
       "      <th>Par</th>\n",
       "      <th>Score</th>\n",
       "      <th>Putts</th>\n",
       "      <th>Fairways</th>\n",
       "      <th>Greens</th>\n",
       "      <th>Holes Played</th>\n",
       "      <th>Relative Score</th>\n",
       "      <th>Relative Score w/ Rating</th>\n",
       "    </tr>\n",
       "  </thead>\n",
       "  <tbody>\n",
       "    <tr>\n",
       "      <th>0</th>\n",
       "      <td>2019-07-20</td>\n",
       "      <td>Wilshire Country Club</td>\n",
       "      <td>71.8</td>\n",
       "      <td>71</td>\n",
       "      <td>98</td>\n",
       "      <td>34.0</td>\n",
       "      <td>5.0</td>\n",
       "      <td>4.0</td>\n",
       "      <td>18</td>\n",
       "      <td>9</td>\n",
       "      <td>26.2</td>\n",
       "    </tr>\n",
       "    <tr>\n",
       "      <th>2</th>\n",
       "      <td>2019-07-27</td>\n",
       "      <td>Wilshire Country Club</td>\n",
       "      <td>71.8</td>\n",
       "      <td>71</td>\n",
       "      <td>98</td>\n",
       "      <td>33.0</td>\n",
       "      <td>10.0</td>\n",
       "      <td>3.0</td>\n",
       "      <td>18</td>\n",
       "      <td>20</td>\n",
       "      <td>26.2</td>\n",
       "    </tr>\n",
       "    <tr>\n",
       "      <th>3</th>\n",
       "      <td>2019-06-16</td>\n",
       "      <td>Sandpiper</td>\n",
       "      <td>75.1</td>\n",
       "      <td>72</td>\n",
       "      <td>86</td>\n",
       "      <td>32.0</td>\n",
       "      <td>5.0</td>\n",
       "      <td>4.0</td>\n",
       "      <td>18</td>\n",
       "      <td>15</td>\n",
       "      <td>10.9</td>\n",
       "    </tr>\n",
       "    <tr>\n",
       "      <th>4</th>\n",
       "      <td>2019-08-17</td>\n",
       "      <td>Wilshire Country Club</td>\n",
       "      <td>71.8</td>\n",
       "      <td>71</td>\n",
       "      <td>91</td>\n",
       "      <td>29.0</td>\n",
       "      <td>5.0</td>\n",
       "      <td>0.0</td>\n",
       "      <td>18</td>\n",
       "      <td>18</td>\n",
       "      <td>19.2</td>\n",
       "    </tr>\n",
       "    <tr>\n",
       "      <th>5</th>\n",
       "      <td>2019-08-24</td>\n",
       "      <td>Wilshire Country Club</td>\n",
       "      <td>71.8</td>\n",
       "      <td>71</td>\n",
       "      <td>83</td>\n",
       "      <td>28.0</td>\n",
       "      <td>5.0</td>\n",
       "      <td>4.0</td>\n",
       "      <td>18</td>\n",
       "      <td>12</td>\n",
       "      <td>11.2</td>\n",
       "    </tr>\n",
       "  </tbody>\n",
       "</table>\n",
       "</div>"
      ],
      "text/plain": [
       "        Date                 Course  Course Rating  Par  Score  Putts  \\\n",
       "0 2019-07-20  Wilshire Country Club           71.8   71     98   34.0   \n",
       "2 2019-07-27  Wilshire Country Club           71.8   71     98   33.0   \n",
       "3 2019-06-16              Sandpiper           75.1   72     86   32.0   \n",
       "4 2019-08-17  Wilshire Country Club           71.8   71     91   29.0   \n",
       "5 2019-08-24  Wilshire Country Club           71.8   71     83   28.0   \n",
       "\n",
       "   Fairways  Greens  Holes Played  Relative Score  Relative Score w/ Rating  \n",
       "0       5.0     4.0            18               9                      26.2  \n",
       "2      10.0     3.0            18              20                      26.2  \n",
       "3       5.0     4.0            18              15                      10.9  \n",
       "4       5.0     0.0            18              18                      19.2  \n",
       "5       5.0     4.0            18              12                      11.2  "
      ]
     },
     "execution_count": 85,
     "metadata": {},
     "output_type": "execute_result"
    }
   ],
   "source": [
    "# Import Round Data\n",
    "personal_scores = cleandata.load_personal_data()\n",
    "personal_scores.head()"
   ]
  },
  {
   "cell_type": "markdown",
   "metadata": {},
   "source": [
    "**Scores Plotted Over Time**"
   ]
  },
  {
   "cell_type": "code",
   "execution_count": 81,
   "metadata": {},
   "outputs": [
    {
     "data": {
      "text/plain": [
       "<matplotlib.axes._subplots.AxesSubplot at 0x10f1ed3d0>"
      ]
     },
     "execution_count": 81,
     "metadata": {},
     "output_type": "execute_result"
    },
    {
     "data": {
      "image/png": "[encoded data removed]",
      "text/plain": [
       "<Figure size 432x288 with 1 Axes>"
      ]
     },
     "metadata": {
      "needs_background": "light"
     },
     "output_type": "display_data"
    }
   ],
   "source": [
    "personal_scores.plot(x=\"Date\", y=\"Score\")"
   ]
  },
  {
   "cell_type": "markdown",
   "metadata": {},
   "source": [
    "**Distribution of Scores**"
   ]
  },
  {
   "cell_type": "code",
   "execution_count": 31,
   "metadata": {},
   "outputs": [
    {
     "data": {
      "text/plain": [
       "<matplotlib.axes._subplots.AxesSubplot at 0x1a25d547d0>"
      ]
     },
     "execution_count": 31,
     "metadata": {},
     "output_type": "execute_result"
    },
    {
     "data": {
      "image/png": "[encoded data removed]",
      "text/plain": [
       "<Figure size 432x288 with 1 Axes>"
      ]
     },
     "metadata": {
      "needs_background": "light"
     },
     "output_type": "display_data"
    }
   ],
   "source": [
    "# Distribution of scores\n",
    "personal_scores['Score'].hist()"
   ]
  },
  {
   "cell_type": "markdown",
   "metadata": {},
   "source": [
    "**Average Stats Given Score Ranges**"
   ]
  },
  {
   "cell_type": "code",
   "execution_count": 32,
   "metadata": {},
   "outputs": [
    {
     "data": {
      "text/html": [
       "<div>\n",
       "<style scoped>\n",
       "    .dataframe tbody tr th:only-of-type {\n",
       "        vertical-align: middle;\n",
       "    }\n",
       "\n",
       "    .dataframe tbody tr th {\n",
       "        vertical-align: top;\n",
       "    }\n",
       "\n",
       "    .dataframe thead th {\n",
       "        text-align: right;\n",
       "    }\n",
       "</style>\n",
       "<table border=\"1\" class=\"dataframe\">\n",
       "  <thead>\n",
       "    <tr style=\"text-align: right;\">\n",
       "      <th></th>\n",
       "      <th>80s</th>\n",
       "      <th>90s</th>\n",
       "    </tr>\n",
       "  </thead>\n",
       "  <tbody>\n",
       "    <tr>\n",
       "      <th>Putts</th>\n",
       "      <td>30.571429</td>\n",
       "      <td>34.000000</td>\n",
       "    </tr>\n",
       "    <tr>\n",
       "      <th>Fairways</th>\n",
       "      <td>5.857143</td>\n",
       "      <td>5.833333</td>\n",
       "    </tr>\n",
       "    <tr>\n",
       "      <th>Greens</th>\n",
       "      <td>4.000000</td>\n",
       "      <td>3.166667</td>\n",
       "    </tr>\n",
       "  </tbody>\n",
       "</table>\n",
       "</div>"
      ],
      "text/plain": [
       "                80s        90s\n",
       "Putts     30.571429  34.000000\n",
       "Fairways   5.857143   5.833333\n",
       "Greens     4.000000   3.166667"
      ]
     },
     "execution_count": 32,
     "metadata": {},
     "output_type": "execute_result"
    }
   ],
   "source": [
    "def find_stats(input_score):\n",
    "    df = personal_scores[(personal_scores[\"Score\"] > input_score) & (personal_scores[\"Score\"] < input_score + 10) & (personal_scores[\"Holes Played\"] == 18)]\n",
    "    df = pd.DataFrame(df[['Putts','Fairways','Greens']].mean())\n",
    "    df.columns = [str(input_score) + 's']\n",
    "    return df\n",
    "\n",
    "shoot_80s = find_stats(input_score = 80)\n",
    "shoot_90s = find_stats(input_score = 90)\n",
    "shoot_80s.merge(shoot_90s, left_index=True, right_index = True)"
   ]
  },
  {
   "cell_type": "markdown",
   "metadata": {},
   "source": [
    "**Correlation Matrix of Scores and Stats**"
   ]
  },
  {
   "cell_type": "code",
   "execution_count": 33,
   "metadata": {},
   "outputs": [
    {
     "data": {
      "text/plain": [
       "<matplotlib.axes._subplots.AxesSubplot at 0x1a25e3a310>"
      ]
     },
     "execution_count": 33,
     "metadata": {},
     "output_type": "execute_result"
    },
    {
     "data": {
      "image/png": "[encoded data removed]",
      "text/plain": [
       "<Figure size 432x288 with 2 Axes>"
      ]
     },
     "metadata": {
      "needs_background": "light"
     },
     "output_type": "display_data"
    }
   ],
   "source": [
    "correlations = personal_scores[[\"Putts\", \"Fairways\", \"Greens\", \"Score\"]].corr()\n",
    "sns.heatmap(correlations, cmap='coolwarm')"
   ]
  },
  {
   "cell_type": "markdown",
   "metadata": {},
   "source": [
    "**Scatterplot: The Relationship Between Stats and Score**"
   ]
  },
  {
   "cell_type": "code",
   "execution_count": 53,
   "metadata": {},
   "outputs": [
    {
     "data": {
      "text/plain": [
       "<matplotlib.axes._subplots.AxesSubplot at 0x1a2679c4d0>"
      ]
     },
     "execution_count": 53,
     "metadata": {},
     "output_type": "execute_result"
    },
    {
     "data": {
      "image/png": "[encoded data removed]",
      "text/plain": [
       "<Figure size 1152x216 with 3 Axes>"
      ]
     },
     "metadata": {
      "needs_background": "light"
     },
     "output_type": "display_data"
    }
   ],
   "source": [
    "fig, axs = plt.subplots(1, 3, sharey=False)\n",
    "personal_scores.plot(kind=\"scatter\", x=\"Putts\", y=\"Score\", ax=axs[0], figsize=(16, 3))\n",
    "personal_scores.plot(kind=\"scatter\", x=\"Greens\", y=\"Score\", ax=axs[1], figsize=(16, 3))\n",
    "personal_scores.plot(kind=\"scatter\", x=\"Fairways\", y=\"Score\", ax=axs[2], figsize=(16, 3))"
   ]
  },
  {
   "cell_type": "markdown",
   "metadata": {},
   "source": [
    "### PGA Tour Data\n",
    "\n",
    "Using a publically available dataset with the stats and average scores for professional golfers could be a way of expanding my dataset. Each record in this PGA Tour dataset represents a player and a summary of statistics for all the rounds they played between 2010 and 2018."
   ]
  },
  {
   "cell_type": "code",
   "execution_count": 78,
   "metadata": {},
   "outputs": [
    {
     "data": {
      "text/html": [
       "<div>\n",
       "<style scoped>\n",
       "    .dataframe tbody tr th:only-of-type {\n",
       "        vertical-align: middle;\n",
       "    }\n",
       "\n",
       "    .dataframe tbody tr th {\n",
       "        vertical-align: top;\n",
       "    }\n",
       "\n",
       "    .dataframe thead th {\n",
       "        text-align: right;\n",
       "    }\n",
       "</style>\n",
       "<table border=\"1\" class=\"dataframe\">\n",
       "  <thead>\n",
       "    <tr style=\"text-align: right;\">\n",
       "      <th></th>\n",
       "      <th>Greens</th>\n",
       "      <th>Putts</th>\n",
       "      <th>Score</th>\n",
       "      <th>Fairways</th>\n",
       "      <th>Holes Played</th>\n",
       "    </tr>\n",
       "  </thead>\n",
       "  <tbody>\n",
       "    <tr>\n",
       "      <th>0</th>\n",
       "      <td>13.2318</td>\n",
       "      <td>29.93</td>\n",
       "      <td>69.617</td>\n",
       "      <td>10.5266</td>\n",
       "      <td>18</td>\n",
       "    </tr>\n",
       "    <tr>\n",
       "      <th>1</th>\n",
       "      <td>12.2796</td>\n",
       "      <td>29.31</td>\n",
       "      <td>70.758</td>\n",
       "      <td>10.3012</td>\n",
       "      <td>18</td>\n",
       "    </tr>\n",
       "    <tr>\n",
       "      <th>2</th>\n",
       "      <td>12.3606</td>\n",
       "      <td>29.12</td>\n",
       "      <td>70.432</td>\n",
       "      <td>10.1136</td>\n",
       "      <td>18</td>\n",
       "    </tr>\n",
       "    <tr>\n",
       "      <th>3</th>\n",
       "      <td>12.3840</td>\n",
       "      <td>29.17</td>\n",
       "      <td>70.015</td>\n",
       "      <td>10.0716</td>\n",
       "      <td>18</td>\n",
       "    </tr>\n",
       "    <tr>\n",
       "      <th>4</th>\n",
       "      <td>12.0816</td>\n",
       "      <td>29.11</td>\n",
       "      <td>71.038</td>\n",
       "      <td>10.0016</td>\n",
       "      <td>18</td>\n",
       "    </tr>\n",
       "  </tbody>\n",
       "</table>\n",
       "</div>"
      ],
      "text/plain": [
       "    Greens  Putts   Score  Fairways  Holes Played\n",
       "0  13.2318  29.93  69.617   10.5266            18\n",
       "1  12.2796  29.31  70.758   10.3012            18\n",
       "2  12.3606  29.12  70.432   10.1136            18\n",
       "3  12.3840  29.17  70.015   10.0716            18\n",
       "4  12.0816  29.11  71.038   10.0016            18"
      ]
     },
     "execution_count": 78,
     "metadata": {},
     "output_type": "execute_result"
    }
   ],
   "source": [
    "# Import PGA Tour Data\n",
    "pro_scores = cleandata.load_pro_data()\n",
    "pro_scores.head()"
   ]
  },
  {
   "cell_type": "markdown",
   "metadata": {},
   "source": [
    "**Distribution of Scores**"
   ]
  },
  {
   "cell_type": "code",
   "execution_count": 79,
   "metadata": {},
   "outputs": [
    {
     "data": {
      "text/plain": [
       "<matplotlib.axes._subplots.AxesSubplot at 0x1a26f05790>"
      ]
     },
     "execution_count": 79,
     "metadata": {},
     "output_type": "execute_result"
    },
    {
     "data": {
      "image/png": "[encoded data removed]",
      "text/plain": [
       "<Figure size 432x288 with 1 Axes>"
      ]
     },
     "metadata": {
      "needs_background": "light"
     },
     "output_type": "display_data"
    }
   ],
   "source": [
    "pro_scores['Score'].plot(kind='hist')"
   ]
  },
  {
   "cell_type": "markdown",
   "metadata": {},
   "source": [
    "**Average Stats Given Scores**"
   ]
  },
  {
   "cell_type": "code",
   "execution_count": 56,
   "metadata": {},
   "outputs": [
    {
     "data": {
      "text/html": [
       "<div>\n",
       "<style scoped>\n",
       "    .dataframe tbody tr th:only-of-type {\n",
       "        vertical-align: middle;\n",
       "    }\n",
       "\n",
       "    .dataframe tbody tr th {\n",
       "        vertical-align: top;\n",
       "    }\n",
       "\n",
       "    .dataframe thead th {\n",
       "        text-align: right;\n",
       "    }\n",
       "</style>\n",
       "<table border=\"1\" class=\"dataframe\">\n",
       "  <thead>\n",
       "    <tr style=\"text-align: right;\">\n",
       "      <th></th>\n",
       "      <th>Fairways</th>\n",
       "      <th>Greens</th>\n",
       "      <th>Holes Played</th>\n",
       "      <th>Putts</th>\n",
       "      <th>Score</th>\n",
       "    </tr>\n",
       "  </thead>\n",
       "  <tbody>\n",
       "    <tr>\n",
       "      <th>69</th>\n",
       "      <td>8.668312</td>\n",
       "      <td>12.181105</td>\n",
       "      <td>18.0</td>\n",
       "      <td>28.902197</td>\n",
       "      <td>69.676947</td>\n",
       "    </tr>\n",
       "    <tr>\n",
       "      <th>70</th>\n",
       "      <td>8.689830</td>\n",
       "      <td>11.945433</td>\n",
       "      <td>18.0</td>\n",
       "      <td>29.111790</td>\n",
       "      <td>70.601705</td>\n",
       "    </tr>\n",
       "    <tr>\n",
       "      <th>71</th>\n",
       "      <td>8.527404</td>\n",
       "      <td>11.660652</td>\n",
       "      <td>18.0</td>\n",
       "      <td>29.246195</td>\n",
       "      <td>71.385104</td>\n",
       "    </tr>\n",
       "    <tr>\n",
       "      <th>72</th>\n",
       "      <td>8.320646</td>\n",
       "      <td>11.344292</td>\n",
       "      <td>18.0</td>\n",
       "      <td>29.486923</td>\n",
       "      <td>72.297560</td>\n",
       "    </tr>\n",
       "    <tr>\n",
       "      <th>73</th>\n",
       "      <td>8.132400</td>\n",
       "      <td>10.861457</td>\n",
       "      <td>18.0</td>\n",
       "      <td>29.327143</td>\n",
       "      <td>73.219714</td>\n",
       "    </tr>\n",
       "    <tr>\n",
       "      <th>74</th>\n",
       "      <td>6.187300</td>\n",
       "      <td>9.720000</td>\n",
       "      <td>18.0</td>\n",
       "      <td>28.905000</td>\n",
       "      <td>74.331000</td>\n",
       "    </tr>\n",
       "  </tbody>\n",
       "</table>\n",
       "</div>"
      ],
      "text/plain": [
       "    Fairways     Greens  Holes Played      Putts      Score\n",
       "69  8.668312  12.181105          18.0  28.902197  69.676947\n",
       "70  8.689830  11.945433          18.0  29.111790  70.601705\n",
       "71  8.527404  11.660652          18.0  29.246195  71.385104\n",
       "72  8.320646  11.344292          18.0  29.486923  72.297560\n",
       "73  8.132400  10.861457          18.0  29.327143  73.219714\n",
       "74  6.187300   9.720000          18.0  28.905000  74.331000"
      ]
     },
     "execution_count": 56,
     "metadata": {},
     "output_type": "execute_result"
    }
   ],
   "source": [
    "def find_avg_stats(score):\n",
    "    stats = pro_scores[(pro_scores['Score'] >= score) & (pro_scores['Score'] < (score+1))].mean()\n",
    "    return stats.rename(score)\n",
    "\n",
    "attributes = pd.DataFrame()\n",
    "for i in range(69,75):\n",
    "    stats = find_avg_stats(i)\n",
    "    attributes = attributes.append(stats)\n",
    "    \n",
    "attributes"
   ]
  },
  {
   "cell_type": "markdown",
   "metadata": {},
   "source": [
    "### Adding Pro Scores to My Scores\n",
    "\n",
    "By adding in average stats for professional golfers, I can create a more robust model that works for my scores as well as the low scores that professionals shoot, and hopefully the scores in between too."
   ]
  },
  {
   "cell_type": "code",
   "execution_count": 57,
   "metadata": {},
   "outputs": [],
   "source": [
    "new = pd.DataFrame()\n",
    "for i in range(70,75):\n",
    "    test = pro_scores[(pro_scores['Score'] >= i) & (pro_scores['Score'] < (i+1))].sample(n=2, random_state=24)\n",
    "    new = new.append(test, ignore_index = True)\n",
    "personal_scores_added_pros = pd.concat([personal_scores,new])"
   ]
  },
  {
   "cell_type": "markdown",
   "metadata": {},
   "source": [
    "**Scatterplot: The Relationship Between Stats and Score**"
   ]
  },
  {
   "cell_type": "code",
   "execution_count": 58,
   "metadata": {},
   "outputs": [
    {
     "data": {
      "text/plain": [
       "<matplotlib.axes._subplots.AxesSubplot at 0x1a26ab62d0>"
      ]
     },
     "execution_count": 58,
     "metadata": {},
     "output_type": "execute_result"
    },
    {
     "data": {
      "image/png": "[encoded data removed]",
      "text/plain": [
       "<Figure size 1152x216 with 3 Axes>"
      ]
     },
     "metadata": {
      "needs_background": "light"
     },
     "output_type": "display_data"
    }
   ],
   "source": [
    "fig, axs = plt.subplots(1, 3, sharey=False)\n",
    "personal_scores_added_pros.plot(kind=\"scatter\", x=\"Putts\", y=\"Score\", ax=axs[0], figsize=(16, 3))\n",
    "personal_scores_added_pros.plot(kind=\"scatter\", x=\"Greens\", y=\"Score\", ax=axs[1], figsize=(16, 3))\n",
    "personal_scores_added_pros.plot(kind=\"scatter\", x=\"Fairways\", y=\"Score\", ax=axs[2], figsize=(16, 3))"
   ]
  },
  {
   "cell_type": "markdown",
   "metadata": {},
   "source": [
    "### Applying a Linear Model\n",
    "\n",
    "Understand the linear relationship between putts, greens, and fairways, with a target variable of score."
   ]
  },
  {
   "cell_type": "code",
   "execution_count": 59,
   "metadata": {},
   "outputs": [],
   "source": [
    "from sklearn.linear_model import LinearRegression"
   ]
  },
  {
   "cell_type": "code",
   "execution_count": 60,
   "metadata": {},
   "outputs": [],
   "source": [
    "def fit_and_score_linear_model(df,target,model='linear'):\n",
    "    \n",
    "    features = ['Putts','Fairways','Greens']\n",
    "    X = df[features]\n",
    "    y = df[target]\n",
    "    \n",
    "    lr = LinearRegression()\n",
    "    lr.fit(X,y)\n",
    "    y_pred = lr.predict(X)\n",
    "    r2 = lr.score(X,y)\n",
    "    coefficients = lr.coef_\n",
    "    intercept = lr.intercept_\n",
    "    frame = pd.DataFrame({'Original': y,'Predicted': y_pred})\n",
    "    model = lr\n",
    "    \n",
    "    print('coeffs:'+str(coefficients))\n",
    "    print('intercept:'+str(intercept))\n",
    "    print('r2:'+str(r2))\n",
    "    \n",
    "    return {'model':model, 'vals': frame,'score': r2, 'coeffs': coefficients}"
   ]
  },
  {
   "cell_type": "code",
   "execution_count": 61,
   "metadata": {},
   "outputs": [
    {
     "name": "stdout",
     "output_type": "stream",
     "text": [
      "coeffs:[ 1.25041109 -0.11996913 -1.98723359]\n",
      "intercept:58.29583056169011\n",
      "r2:0.5005286435494004\n"
     ]
    }
   ],
   "source": [
    "test1 = fit_and_score_linear_model(personal_scores,'Score','linear')"
   ]
  },
  {
   "cell_type": "code",
   "execution_count": 62,
   "metadata": {},
   "outputs": [
    {
     "name": "stdout",
     "output_type": "stream",
     "text": [
      "coeffs:[ 1.23777615 -0.06265284 -1.91760438]\n",
      "intercept:58.10202779759851\n",
      "r2:0.9205079679115369\n"
     ]
    }
   ],
   "source": [
    "test2 = fit_and_score_linear_model(personal_scores_added_pros,'Score','linear')"
   ]
  },
  {
   "cell_type": "code",
   "execution_count": 63,
   "metadata": {},
   "outputs": [
    {
     "name": "stdout",
     "output_type": "stream",
     "text": [
      "coeffs:[ 1.35318548 -0.18625921 -2.00997446]\n",
      "intercept:-15.885156320676867\n",
      "r2:0.5091411045028722\n"
     ]
    }
   ],
   "source": [
    "test3 = fit_and_score_linear_model(personal_scores,'Relative Score w/ Rating','linear')"
   ]
  },
  {
   "cell_type": "code",
   "execution_count": 64,
   "metadata": {},
   "outputs": [],
   "source": [
    "IDEAL_MODEL = test2['model']\n",
    "with open('exports/Score.pkl', 'wb') as picklefile:\n",
    "    pickle.dump(IDEAL_MODEL, picklefile)"
   ]
  },
  {
   "cell_type": "markdown",
   "metadata": {},
   "source": [
    "The best performing model uses the data that has pro scores included. The coefficients from the linear model can be used to create an equation that predicts the score based on the number of putts, fairways, and greens. The number of greens hit has the biggest impact on overall score."
   ]
  },
  {
   "cell_type": "markdown",
   "metadata": {},
   "source": [
    "$$y = 1.2p - .06f - 1.9g + 58$$"
   ]
  },
  {
   "cell_type": "markdown",
   "metadata": {},
   "source": [
    "### Applying a Random Forest Regressor\n",
    "\n",
    "Generate a random forest of decision trees to understand the relationship between putts, greens, and fairways, with a target variable of score."
   ]
  },
  {
   "cell_type": "code",
   "execution_count": 82,
   "metadata": {},
   "outputs": [],
   "source": [
    "from sklearn.ensemble import RandomForestRegressor\n",
    "from sklearn.model_selection import cross_val_score, KFold"
   ]
  },
  {
   "cell_type": "code",
   "execution_count": 83,
   "metadata": {},
   "outputs": [
    {
     "name": "stdout",
     "output_type": "stream",
     "text": [
      "mse: 24.720958266666663\n",
      "r2: 0.26886317474056626\n"
     ]
    }
   ],
   "source": [
    "features = ['Putts','Fairways','Greens']\n",
    "target = 'Relative Score w/ Rating'\n",
    "X = personal_scores[features]\n",
    "y = personal_scores[target]\n",
    "\n",
    "rf = RandomForestRegressor()\n",
    "lr = LinearRegression()\n",
    "kf = KFold(n_splits = 5)\n",
    "\n",
    "scores = cross_val_score(rf,X,y,scoring='neg_mean_squared_error',cv=kf)\n",
    "print('mse: ' + str(np.mean(-scores)))\n",
    "scores = cross_val_score(rf,X,y,scoring='r2',cv=kf)\n",
    "print('r2: ' + str(np.mean(scores)))"
   ]
  },
  {
   "cell_type": "markdown",
   "metadata": {},
   "source": [
    "### Output and Optimization\n",
    "\n",
    "There are a few ways to use the model in order to generate a prediction. You can use the linear equation to solve for the target score given a specific stats. Or you can provide a range for each stat and use an optimization algorithm to predict the lowest score possible.\n"
   ]
  },
  {
   "cell_type": "markdown",
   "metadata": {},
   "source": [
    "**Predict Target Score Based On Stats**"
   ]
  },
  {
   "cell_type": "code",
   "execution_count": 66,
   "metadata": {},
   "outputs": [
    {
     "data": {
      "text/plain": [
       "92.57272466952428"
      ]
     },
     "execution_count": 66,
     "metadata": {},
     "output_type": "execute_result"
    }
   ],
   "source": [
    "IDEAL_MODEL.predict(pd.DataFrame({'Putts': [36.0],'Fairways': [8.0],'Greens': [5.0]}))[0]"
   ]
  },
  {
   "cell_type": "markdown",
   "metadata": {},
   "source": [
    "**Predict Target Score Based On Range of Stats**"
   ]
  },
  {
   "cell_type": "code",
   "execution_count": 67,
   "metadata": {},
   "outputs": [
    {
     "data": {
      "text/plain": [
       "77.53830308169393"
      ]
     },
     "execution_count": 67,
     "metadata": {},
     "output_type": "execute_result"
    }
   ],
   "source": [
    "from scipy.optimize import linprog\n",
    "\n",
    "c = IDEAL_MODEL.coef_\n",
    "putts_bounds = (30,32)\n",
    "fairways_bounds = (5,7)\n",
    "greens_bounds = (6,9)\n",
    "result = linprog(c,  bounds=[putts_bounds, fairways_bounds, greens_bounds])\n",
    "output = result.fun + IDEAL_MODEL.intercept_\n",
    "output"
   ]
  },
  {
   "cell_type": "markdown",
   "metadata": {},
   "source": [
    "**Predict Stats Based On Target Score**"
   ]
  },
  {
   "cell_type": "code",
   "execution_count": 68,
   "metadata": {},
   "outputs": [],
   "source": [
    "features = ['Putts','Fairways','Greens']\n",
    "X = personal_scores_added_pros['Score'].values.reshape(-1, 1)\n",
    "models = {}\n",
    "for feature in features:\n",
    "    y = personal_scores_added_pros[feature]\n",
    "    lr = LinearRegression()\n",
    "    lr.fit(X,y)\n",
    "    y_pred = lr.predict(np.array([72]).reshape(-1, 1))\n",
    "    r2 = lr.score(X,y)\n",
    "    models[feature] = lr\n",
    "    \n",
    "    with open('exports/'+feature+'.pkl', 'wb') as picklefile:\n",
    "        pickle.dump(IDEAL_MODEL, picklefile)\n",
    "    \n",
    "\n",
    "def get_target_stats(target_score):\n",
    "    target_stats = []\n",
    "    for feature in features:\n",
    "        target_stat = models[feature].predict(np.array([target_score]).reshape(-1, 1))\n",
    "        target_stats.append(target_stat[0])\n",
    "    \n",
    "    return target_stats"
   ]
  },
  {
   "cell_type": "code",
   "execution_count": 69,
   "metadata": {},
   "outputs": [
    {
     "data": {
      "text/plain": [
       "<matplotlib.axes._subplots.AxesSubplot at 0x1a26cd8290>"
      ]
     },
     "execution_count": 69,
     "metadata": {},
     "output_type": "execute_result"
    },
    {
     "data": {
      "image/png": "[encoded data removed]",
      "text/plain": [
       "<Figure size 1152x216 with 3 Axes>"
      ]
     },
     "metadata": {
      "needs_background": "light"
     },
     "output_type": "display_data"
    }
   ],
   "source": [
    "fig, axs = plt.subplots(1, 3, sharey=False,figsize=(16, 3))\n",
    "sns.regplot(x=personal_scores_added_pros.Putts, y=personal_scores_added_pros.Score, ax=axs[0])\n",
    "sns.regplot(x=personal_scores_added_pros.Fairways, y=personal_scores_added_pros.Score, ax=axs[1])\n",
    "sns.regplot(x=personal_scores_added_pros.Greens, y=personal_scores_added_pros.Score, ax=axs[2])"
   ]
  },
  {
   "cell_type": "code",
   "execution_count": 70,
   "metadata": {},
   "outputs": [
    {
     "data": {
      "text/plain": [
       "[29.50407144986724, 7.744136175930084, 9.660391288803709]"
      ]
     },
     "execution_count": 70,
     "metadata": {},
     "output_type": "execute_result"
    }
   ],
   "source": [
    "get_target_stats(75)"
   ]
  }
 ],
 "metadata": {
  "kernelspec": {
   "display_name": "Python 3",
   "language": "python",
   "name": "python3"
  },
  "language_info": {
   "codemirror_mode": {
    "name": "ipython",
    "version": 3
   },
   "file_extension": ".py",
   "mimetype": "text/x-python",
   "name": "python",
   "nbconvert_exporter": "python",
   "pygments_lexer": "ipython3",
   "version": "3.7.6"
  }
 },
 "nbformat": 4,
 "nbformat_minor": 4
}
