{
 "cells": [
  {
   "cell_type": "markdown",
   "metadata": {},
   "source": [
    "# Golf Game Improvement Model\n",
    "\n",
    "\n",
    "**Overview :**\n",
    "\n",
    "How well a player scores in golf is based on his/her skills in various parts of the game. It takes practice with a specific purpose in mind to score better. This data project will give users specific areas to practice in order to reach a specific goal, helping people improve their games.\n",
    "\n",
    "**Function :**\n",
    "\n",
    "- Input: Score\n",
    "- Output: Greens, Putts, Fairways\n",
    "\n",
    "**Definitions :**\n",
    "\n",
    "- Score (INT): The total number of shots taken in the round.\n",
    "- Greens (INT): The number of greens in regulation (out of 18). [More Info](https://www.liveabout.com/what-is-green-in-regulation-gir-1560864)\n",
    "- Putts (INT): The total number of putts taken in the round.\n",
    "- Fairways (INT): The total number of fairways hit in a round (out of 14 assuming a course with 14 fairways)"
   ]
  },
  {
   "cell_type": "markdown",
   "metadata": {},
   "source": [
    "### Personal Data\n",
    "\n",
    "Each record in my data set represents a round of golf that I played and includes details about that round such as the score and stats (e.g. number of putts, number of fairways). I cleaned the data below..."
   ]
  },
  {
   "cell_type": "code",
   "execution_count": 2,
   "metadata": {},
   "outputs": [],
   "source": [
    "import pandas as pd\n",
    "import matplotlib.pyplot as mpl\n",
    "import seaborn as sns\n",
    "import matplotlib.pyplot as plt\n",
    "import numpy as np\n",
    "\n",
    "%matplotlib inline"
   ]
  },
  {
   "cell_type": "code",
   "execution_count": 131,
   "metadata": {},
   "outputs": [
    {
     "data": {
      "text/html": [
       "<div>\n",
       "<style scoped>\n",
       "    .dataframe tbody tr th:only-of-type {\n",
       "        vertical-align: middle;\n",
       "    }\n",
       "\n",
       "    .dataframe tbody tr th {\n",
       "        vertical-align: top;\n",
       "    }\n",
       "\n",
       "    .dataframe thead th {\n",
       "        text-align: right;\n",
       "    }\n",
       "</style>\n",
       "<table border=\"1\" class=\"dataframe\">\n",
       "  <thead>\n",
       "    <tr style=\"text-align: right;\">\n",
       "      <th></th>\n",
       "      <th>Date</th>\n",
       "      <th>Course</th>\n",
       "      <th>Course Rating</th>\n",
       "      <th>Par</th>\n",
       "      <th>Score</th>\n",
       "      <th>Putts</th>\n",
       "      <th>Fairways</th>\n",
       "      <th>Greens</th>\n",
       "      <th>Holes Played</th>\n",
       "      <th>Relative Score</th>\n",
       "      <th>Relative Score w/ Rating</th>\n",
       "    </tr>\n",
       "  </thead>\n",
       "  <tbody>\n",
       "    <tr>\n",
       "      <th>0</th>\n",
       "      <td>2019-07-20</td>\n",
       "      <td>Wilshire Country Club</td>\n",
       "      <td>71.8</td>\n",
       "      <td>71</td>\n",
       "      <td>98</td>\n",
       "      <td>34.0</td>\n",
       "      <td>5.0</td>\n",
       "      <td>4.0</td>\n",
       "      <td>18</td>\n",
       "      <td>9</td>\n",
       "      <td>26.2</td>\n",
       "    </tr>\n",
       "    <tr>\n",
       "      <th>2</th>\n",
       "      <td>2019-07-27</td>\n",
       "      <td>Wilshire Country Club</td>\n",
       "      <td>71.8</td>\n",
       "      <td>71</td>\n",
       "      <td>98</td>\n",
       "      <td>33.0</td>\n",
       "      <td>10.0</td>\n",
       "      <td>3.0</td>\n",
       "      <td>18</td>\n",
       "      <td>20</td>\n",
       "      <td>26.2</td>\n",
       "    </tr>\n",
       "    <tr>\n",
       "      <th>3</th>\n",
       "      <td>2019-06-16</td>\n",
       "      <td>Sandpiper</td>\n",
       "      <td>75.1</td>\n",
       "      <td>72</td>\n",
       "      <td>86</td>\n",
       "      <td>32.0</td>\n",
       "      <td>5.0</td>\n",
       "      <td>4.0</td>\n",
       "      <td>18</td>\n",
       "      <td>15</td>\n",
       "      <td>10.9</td>\n",
       "    </tr>\n",
       "    <tr>\n",
       "      <th>4</th>\n",
       "      <td>2019-08-17</td>\n",
       "      <td>Wilshire Country Club</td>\n",
       "      <td>71.8</td>\n",
       "      <td>71</td>\n",
       "      <td>91</td>\n",
       "      <td>29.0</td>\n",
       "      <td>5.0</td>\n",
       "      <td>0.0</td>\n",
       "      <td>18</td>\n",
       "      <td>18</td>\n",
       "      <td>19.2</td>\n",
       "    </tr>\n",
       "    <tr>\n",
       "      <th>5</th>\n",
       "      <td>2019-08-24</td>\n",
       "      <td>Wilshire Country Club</td>\n",
       "      <td>71.8</td>\n",
       "      <td>71</td>\n",
       "      <td>83</td>\n",
       "      <td>28.0</td>\n",
       "      <td>5.0</td>\n",
       "      <td>4.0</td>\n",
       "      <td>18</td>\n",
       "      <td>12</td>\n",
       "      <td>11.2</td>\n",
       "    </tr>\n",
       "  </tbody>\n",
       "</table>\n",
       "</div>"
      ],
      "text/plain": [
       "        Date                 Course  Course Rating  Par  Score  Putts  \\\n",
       "0 2019-07-20  Wilshire Country Club           71.8   71     98   34.0   \n",
       "2 2019-07-27  Wilshire Country Club           71.8   71     98   33.0   \n",
       "3 2019-06-16              Sandpiper           75.1   72     86   32.0   \n",
       "4 2019-08-17  Wilshire Country Club           71.8   71     91   29.0   \n",
       "5 2019-08-24  Wilshire Country Club           71.8   71     83   28.0   \n",
       "\n",
       "   Fairways  Greens  Holes Played  Relative Score  Relative Score w/ Rating  \n",
       "0       5.0     4.0            18               9                      26.2  \n",
       "2      10.0     3.0            18              20                      26.2  \n",
       "3       5.0     4.0            18              15                      10.9  \n",
       "4       5.0     0.0            18              18                      19.2  \n",
       "5       5.0     4.0            18              12                      11.2  "
      ]
     },
     "execution_count": 131,
     "metadata": {},
     "output_type": "execute_result"
    }
   ],
   "source": [
    "# Import Round Data\n",
    "round_data = pd.read_csv('./data/rounds.csv', usecols=[\"Name\", \"Date\", \"Course\", \"Course Rating\"])\n",
    "round_data.columns = ['Rounds', 'Date', 'Course', 'Course Rating']\n",
    "round_data['Date'] = pd.to_datetime(round_data['Date'])\n",
    "\n",
    "# Import Hole Data\n",
    "hole_data = pd.read_csv('./data/holes.csv')\n",
    "hole_data['Greens'] = hole_data['Greens'].map({'checked': '1'})\n",
    "hole_data['Greens'] = hole_data['Greens'].astype('float64')\n",
    "hole_data['Sand'] = hole_data['Sand'].map({'Y': '1', 'N': '0'})\n",
    "hole_data['Sand'] = hole_data['Sand'].astype('float64')\n",
    "hole_data['Scrambling'] = hole_data['Scrambling'].map({'Y': '1', 'N': '0'})\n",
    "hole_data['Scrambling'] = hole_data['Scrambling'].astype('float64')\n",
    "hole_data['Fairways'] = hole_data['Fairways'].map({'Y': '1', 'N': '0'})\n",
    "hole_data['Fairways'] = hole_data['Fairways'].astype('float64')\n",
    "\n",
    "# Create Scores Summary Table\n",
    "scores_summary = hole_data.groupby(['Rounds'])[['Par', 'Score', 'Putts', 'Fairways', 'Greens']].sum()\n",
    "holes_played = hole_data['Rounds'].value_counts()\n",
    "relative_score = scores_summary.Score - scores_summary.Par\n",
    "relative_score.sort_index(inplace = True)\n",
    "relative_score.index = holes_played.index - 1\n",
    "holes_played.sort_index(inplace = True)\n",
    "holes_played.index = holes_played.index - 1\n",
    "scores_summary = round_data.merge(scores_summary, on='Rounds')\n",
    "scores_summary['Holes Played'] = holes_played\n",
    "scores_summary['Relative Score'] = relative_score\n",
    "\n",
    "#Remove records without stats tracked\n",
    "scores_summary.drop([3,5], inplace=True)\n",
    "scores_summary.reset_index(inplace=True)\n",
    "scores_summary.drop(['index','Rounds'], inplace=True, axis=1)\n",
    "\n",
    "#Combine 9 hole scores\n",
    "s1 = scores_summary.iloc[1,4:]\n",
    "s2 = scores_summary.iloc[11,4:]\n",
    "s2a = scores_summary.iloc[11,:4]\n",
    "s = s1 + s2\n",
    "scores_summary.iloc[11] = s2a.append(s)\n",
    "scores_summary.drop([1], inplace=True)\n",
    "\n",
    "# Add column for relative score given course difficulty\n",
    "scores_summary['Relative Score w/ Rating'] = scores_summary.Score.astype('float64') - scores_summary['Course Rating']\n",
    "\n",
    "scores_summary.head()"
   ]
  },
  {
   "cell_type": "markdown",
   "metadata": {},
   "source": [
    "**Scores Plotted Over Time**"
   ]
  },
  {
   "cell_type": "code",
   "execution_count": 123,
   "metadata": {},
   "outputs": [
    {
     "data": {
      "text/plain": [
       "<matplotlib.axes._subplots.AxesSubplot at 0x1a202055d0>"
      ]
     },
     "execution_count": 123,
     "metadata": {},
     "output_type": "execute_result"
    },
    {
     "data": {
      "image/png": "[encoded data removed]",
      "text/plain": [
       "<Figure size 432x288 with 1 Axes>"
      ]
     },
     "metadata": {
      "needs_background": "light"
     },
     "output_type": "display_data"
    }
   ],
   "source": [
    "scores_summary.plot(x=\"Date\", y=\"Score\")"
   ]
  },
  {
   "cell_type": "markdown",
   "metadata": {},
   "source": [
    "**Distribution of Scores**"
   ]
  },
  {
   "cell_type": "code",
   "execution_count": 5,
   "metadata": {},
   "outputs": [
    {
     "data": {
      "text/plain": [
       "<matplotlib.axes._subplots.AxesSubplot at 0x1a1dc9b050>"
      ]
     },
     "execution_count": 5,
     "metadata": {},
     "output_type": "execute_result"
    },
    {
     "data": {
      "image/png": "[encoded data removed]",
      "text/plain": [
       "<Figure size 432x288 with 1 Axes>"
      ]
     },
     "metadata": {
      "needs_background": "light"
     },
     "output_type": "display_data"
    }
   ],
   "source": [
    "# Distribution of scores\n",
    "scores_summary['Score'].hist()"
   ]
  },
  {
   "cell_type": "markdown",
   "metadata": {},
   "source": [
    "**Average Stats Given Score Ranges**"
   ]
  },
  {
   "cell_type": "code",
   "execution_count": 126,
   "metadata": {},
   "outputs": [
    {
     "data": {
      "text/html": [
       "<div>\n",
       "<style scoped>\n",
       "    .dataframe tbody tr th:only-of-type {\n",
       "        vertical-align: middle;\n",
       "    }\n",
       "\n",
       "    .dataframe tbody tr th {\n",
       "        vertical-align: top;\n",
       "    }\n",
       "\n",
       "    .dataframe thead th {\n",
       "        text-align: right;\n",
       "    }\n",
       "</style>\n",
       "<table border=\"1\" class=\"dataframe\">\n",
       "  <thead>\n",
       "    <tr style=\"text-align: right;\">\n",
       "      <th></th>\n",
       "      <th>80s</th>\n",
       "      <th>90s</th>\n",
       "    </tr>\n",
       "  </thead>\n",
       "  <tbody>\n",
       "    <tr>\n",
       "      <th>Putts</th>\n",
       "      <td>30.571429</td>\n",
       "      <td>34.000000</td>\n",
       "    </tr>\n",
       "    <tr>\n",
       "      <th>Fairways</th>\n",
       "      <td>5.857143</td>\n",
       "      <td>5.833333</td>\n",
       "    </tr>\n",
       "    <tr>\n",
       "      <th>Greens</th>\n",
       "      <td>4.000000</td>\n",
       "      <td>3.166667</td>\n",
       "    </tr>\n",
       "  </tbody>\n",
       "</table>\n",
       "</div>"
      ],
      "text/plain": [
       "                80s        90s\n",
       "Putts     30.571429  34.000000\n",
       "Fairways   5.857143   5.833333\n",
       "Greens     4.000000   3.166667"
      ]
     },
     "execution_count": 126,
     "metadata": {},
     "output_type": "execute_result"
    }
   ],
   "source": [
    "def find_stats(input_score):\n",
    "    df = scores_summary[(scores_summary[\"Score\"] > input_score) & (scores_summary[\"Score\"] < input_score + 10) & (scores_summary[\"Holes Played\"] == 18)]\n",
    "    df = pd.DataFrame(df[['Putts','Fairways','Greens']].mean())\n",
    "    df.columns = [str(input_score) + 's']\n",
    "    return df\n",
    "\n",
    "shoot_80s = find_stats(input_score = 80)\n",
    "shoot_90s = find_stats(input_score = 90)\n",
    "shoot_80s.merge(shoot_90s, left_index=True, right_index = True)"
   ]
  },
  {
   "cell_type": "markdown",
   "metadata": {},
   "source": [
    "**Correlation Matrix of Scores and Stats**"
   ]
  },
  {
   "cell_type": "code",
   "execution_count": 8,
   "metadata": {},
   "outputs": [
    {
     "data": {
      "text/plain": [
       "<matplotlib.axes._subplots.AxesSubplot at 0x1a1ddfeb50>"
      ]
     },
     "execution_count": 8,
     "metadata": {},
     "output_type": "execute_result"
    },
    {
     "data": {
      "image/png": "[encoded data removed]",
      "text/plain": [
       "<Figure size 432x288 with 2 Axes>"
      ]
     },
     "metadata": {
      "needs_background": "light"
     },
     "output_type": "display_data"
    }
   ],
   "source": [
    "correlations = scores_summary[[\"Putts\", \"Fairways\", \"Greens\", \"Score\"]].corr()\n",
    "sns.heatmap(correlations, cmap='coolwarm')"
   ]
  },
  {
   "cell_type": "markdown",
   "metadata": {},
   "source": [
    "**Scatterplot: The Relationship Between Stats and Score**"
   ]
  },
  {
   "cell_type": "code",
   "execution_count": 135,
   "metadata": {},
   "outputs": [
    {
     "data": {
      "text/plain": [
       "<matplotlib.axes._subplots.AxesSubplot at 0x1a1eba5190>"
      ]
     },
     "execution_count": 135,
     "metadata": {},
     "output_type": "execute_result"
    },
    {
     "data": {
      "image/png": "[encoded data removed]",
      "text/plain": [
       "<Figure size 1152x216 with 3 Axes>"
      ]
     },
     "metadata": {
      "needs_background": "light"
     },
     "output_type": "display_data"
    }
   ],
   "source": [
    "fig, axs = plt.subplots(1, 3, sharey=False)\n",
    "scores_summary.plot(kind=\"scatter\", x=\"Putts\", y=\"Score\", ax=axs[0], figsize=(16, 3))\n",
    "scores_summary.plot(kind=\"scatter\", x=\"Greens\", y=\"Score\", ax=axs[1], figsize=(16, 3))\n",
    "scores_summary.plot(kind=\"scatter\", x=\"Fairways\", y=\"Score\", ax=axs[2], figsize=(16, 3))"
   ]
  },
  {
   "cell_type": "markdown",
   "metadata": {},
   "source": [
    "### PGA Tour Data\n",
    "\n",
    "Using a publically available dataset with the stats and average scores for professional golfers could be a way of expanding my dataset. Each record in this PGA Tour dataset represents a player and a summary of statistics for all the rounds they played between 2010 and 2018."
   ]
  },
  {
   "cell_type": "code",
   "execution_count": 132,
   "metadata": {},
   "outputs": [
    {
     "data": {
      "text/html": [
       "<div>\n",
       "<style scoped>\n",
       "    .dataframe tbody tr th:only-of-type {\n",
       "        vertical-align: middle;\n",
       "    }\n",
       "\n",
       "    .dataframe tbody tr th {\n",
       "        vertical-align: top;\n",
       "    }\n",
       "\n",
       "    .dataframe thead th {\n",
       "        text-align: right;\n",
       "    }\n",
       "</style>\n",
       "<table border=\"1\" class=\"dataframe\">\n",
       "  <thead>\n",
       "    <tr style=\"text-align: right;\">\n",
       "      <th></th>\n",
       "      <th>Greens</th>\n",
       "      <th>Putts</th>\n",
       "      <th>Score</th>\n",
       "      <th>Fairways</th>\n",
       "      <th>Holes Played</th>\n",
       "    </tr>\n",
       "  </thead>\n",
       "  <tbody>\n",
       "    <tr>\n",
       "      <th>0</th>\n",
       "      <td>13.2318</td>\n",
       "      <td>29.93</td>\n",
       "      <td>69.617</td>\n",
       "      <td>10.5266</td>\n",
       "      <td>18</td>\n",
       "    </tr>\n",
       "    <tr>\n",
       "      <th>1</th>\n",
       "      <td>12.2796</td>\n",
       "      <td>29.31</td>\n",
       "      <td>70.758</td>\n",
       "      <td>10.3012</td>\n",
       "      <td>18</td>\n",
       "    </tr>\n",
       "    <tr>\n",
       "      <th>2</th>\n",
       "      <td>12.3606</td>\n",
       "      <td>29.12</td>\n",
       "      <td>70.432</td>\n",
       "      <td>10.1136</td>\n",
       "      <td>18</td>\n",
       "    </tr>\n",
       "    <tr>\n",
       "      <th>3</th>\n",
       "      <td>12.3840</td>\n",
       "      <td>29.17</td>\n",
       "      <td>70.015</td>\n",
       "      <td>10.0716</td>\n",
       "      <td>18</td>\n",
       "    </tr>\n",
       "    <tr>\n",
       "      <th>4</th>\n",
       "      <td>12.0816</td>\n",
       "      <td>29.11</td>\n",
       "      <td>71.038</td>\n",
       "      <td>10.0016</td>\n",
       "      <td>18</td>\n",
       "    </tr>\n",
       "  </tbody>\n",
       "</table>\n",
       "</div>"
      ],
      "text/plain": [
       "    Greens  Putts   Score  Fairways  Holes Played\n",
       "0  13.2318  29.93  69.617   10.5266            18\n",
       "1  12.2796  29.31  70.758   10.3012            18\n",
       "2  12.3606  29.12  70.432   10.1136            18\n",
       "3  12.3840  29.17  70.015   10.0716            18\n",
       "4  12.0816  29.11  71.038   10.0016            18"
      ]
     },
     "execution_count": 132,
     "metadata": {},
     "output_type": "execute_result"
    }
   ],
   "source": [
    "# Import PGA Tour Data\n",
    "data = pd.read_csv('./data/pgaTourData.csv')\n",
    "\n",
    "# Remove NA records.\n",
    "cleaned_data = data[data['gir'].notna()]\n",
    "\n",
    "# Remove unecessary features\n",
    "cleaned_data = cleaned_data[['gir','Average Putts','Average Score','Fairway Percentage']]\n",
    "\n",
    "# Convert average percentages per round into averages totals per round \n",
    "cleaned_data['gir'] = (cleaned_data['gir']/100)*18\n",
    "cleaned_data['Fairway Percentage'] = (cleaned_data['Fairway Percentage']/100)*14\n",
    "cleaned_data['Holes Played'] = 18\n",
    "\n",
    "# Rename columns\n",
    "cleaned_data.columns = ['Greens','Putts','Score','Fairways','Holes Played']\n",
    "\n",
    "cleaned_data.head()"
   ]
  },
  {
   "cell_type": "markdown",
   "metadata": {},
   "source": [
    "**Distribution of Scores**"
   ]
  },
  {
   "cell_type": "code",
   "execution_count": 12,
   "metadata": {},
   "outputs": [
    {
     "data": {
      "text/plain": [
       "<matplotlib.axes._subplots.AxesSubplot at 0x1a1eea1e90>"
      ]
     },
     "execution_count": 12,
     "metadata": {},
     "output_type": "execute_result"
    },
    {
     "data": {
      "image/png": "[encoded data removed]",
      "text/plain": [
       "<Figure size 432x288 with 1 Axes>"
      ]
     },
     "metadata": {
      "needs_background": "light"
     },
     "output_type": "display_data"
    }
   ],
   "source": [
    "cleaned_data['Score'].plot(kind='hist')"
   ]
  },
  {
   "cell_type": "markdown",
   "metadata": {},
   "source": [
    "**Average Stats Given Scores**"
   ]
  },
  {
   "cell_type": "code",
   "execution_count": 111,
   "metadata": {},
   "outputs": [
    {
     "data": {
      "text/html": [
       "<div>\n",
       "<style scoped>\n",
       "    .dataframe tbody tr th:only-of-type {\n",
       "        vertical-align: middle;\n",
       "    }\n",
       "\n",
       "    .dataframe tbody tr th {\n",
       "        vertical-align: top;\n",
       "    }\n",
       "\n",
       "    .dataframe thead th {\n",
       "        text-align: right;\n",
       "    }\n",
       "</style>\n",
       "<table border=\"1\" class=\"dataframe\">\n",
       "  <thead>\n",
       "    <tr style=\"text-align: right;\">\n",
       "      <th></th>\n",
       "      <th>Fairways</th>\n",
       "      <th>Greens</th>\n",
       "      <th>Holes Played</th>\n",
       "      <th>Putts</th>\n",
       "      <th>Score</th>\n",
       "    </tr>\n",
       "  </thead>\n",
       "  <tbody>\n",
       "    <tr>\n",
       "      <th>69</th>\n",
       "      <td>8.668312</td>\n",
       "      <td>12.181105</td>\n",
       "      <td>18.0</td>\n",
       "      <td>28.902197</td>\n",
       "      <td>69.676947</td>\n",
       "    </tr>\n",
       "    <tr>\n",
       "      <th>70</th>\n",
       "      <td>8.689830</td>\n",
       "      <td>11.945433</td>\n",
       "      <td>18.0</td>\n",
       "      <td>29.111790</td>\n",
       "      <td>70.601705</td>\n",
       "    </tr>\n",
       "    <tr>\n",
       "      <th>71</th>\n",
       "      <td>8.527404</td>\n",
       "      <td>11.660652</td>\n",
       "      <td>18.0</td>\n",
       "      <td>29.246195</td>\n",
       "      <td>71.385104</td>\n",
       "    </tr>\n",
       "    <tr>\n",
       "      <th>72</th>\n",
       "      <td>8.320646</td>\n",
       "      <td>11.344292</td>\n",
       "      <td>18.0</td>\n",
       "      <td>29.486923</td>\n",
       "      <td>72.297560</td>\n",
       "    </tr>\n",
       "    <tr>\n",
       "      <th>73</th>\n",
       "      <td>8.132400</td>\n",
       "      <td>10.861457</td>\n",
       "      <td>18.0</td>\n",
       "      <td>29.327143</td>\n",
       "      <td>73.219714</td>\n",
       "    </tr>\n",
       "    <tr>\n",
       "      <th>74</th>\n",
       "      <td>6.187300</td>\n",
       "      <td>9.720000</td>\n",
       "      <td>18.0</td>\n",
       "      <td>28.905000</td>\n",
       "      <td>74.331000</td>\n",
       "    </tr>\n",
       "  </tbody>\n",
       "</table>\n",
       "</div>"
      ],
      "text/plain": [
       "    Fairways     Greens  Holes Played      Putts      Score\n",
       "69  8.668312  12.181105          18.0  28.902197  69.676947\n",
       "70  8.689830  11.945433          18.0  29.111790  70.601705\n",
       "71  8.527404  11.660652          18.0  29.246195  71.385104\n",
       "72  8.320646  11.344292          18.0  29.486923  72.297560\n",
       "73  8.132400  10.861457          18.0  29.327143  73.219714\n",
       "74  6.187300   9.720000          18.0  28.905000  74.331000"
      ]
     },
     "execution_count": 111,
     "metadata": {},
     "output_type": "execute_result"
    }
   ],
   "source": [
    "def find_avg_stats(score):\n",
    "    stats = cleaned_data[(cleaned_data['Score'] >= score) & (cleaned_data['Score'] < (score+1))].mean()\n",
    "    return stats.rename(score)\n",
    "\n",
    "attributes = pd.DataFrame()\n",
    "for i in range(69,75):\n",
    "    stats = find_avg_stats(i)\n",
    "    attributes = attributes.append(stats)\n",
    "    \n",
    "attributes"
   ]
  },
  {
   "cell_type": "markdown",
   "metadata": {},
   "source": [
    "### Adding Pro Scores to My Scores\n",
    "\n",
    "By adding in average stats for professional golfers, I can create a more robust model that works for my scores as well as the low scores that professionals shoot, and hopefully the scores in between too."
   ]
  },
  {
   "cell_type": "code",
   "execution_count": 137,
   "metadata": {},
   "outputs": [],
   "source": [
    "new = pd.DataFrame()\n",
    "for i in range(70,75):\n",
    "    test = cleaned_data[(cleaned_data['Score'] >= i) & (cleaned_data['Score'] < (i+1))].sample(n=2, random_state=24)\n",
    "    new = new.append(test, ignore_index = True)\n",
    "scores_summary_added_pros = pd.concat([scores_summary,new])"
   ]
  },
  {
   "cell_type": "markdown",
   "metadata": {},
   "source": [
    "**Scatterplot: The Relationship Between Stats and Score**"
   ]
  },
  {
   "cell_type": "code",
   "execution_count": 136,
   "metadata": {},
   "outputs": [
    {
     "data": {
      "text/plain": [
       "<matplotlib.axes._subplots.AxesSubplot at 0x1a1ed9b3d0>"
      ]
     },
     "execution_count": 136,
     "metadata": {},
     "output_type": "execute_result"
    },
    {
     "data": {
      "image/png": "[encoded data removed]",
      "text/plain": [
       "<Figure size 1152x216 with 3 Axes>"
      ]
     },
     "metadata": {
      "needs_background": "light"
     },
     "output_type": "display_data"
    }
   ],
   "source": [
    "fig, axs = plt.subplots(1, 3, sharey=False)\n",
    "scores_summary_added_pros.plot(kind=\"scatter\", x=\"Putts\", y=\"Score\", ax=axs[0], figsize=(16, 3))\n",
    "scores_summary_added_pros.plot(kind=\"scatter\", x=\"Greens\", y=\"Score\", ax=axs[1], figsize=(16, 3))\n",
    "scores_summary_added_pros.plot(kind=\"scatter\", x=\"Fairways\", y=\"Score\", ax=axs[2], figsize=(16, 3))"
   ]
  },
  {
   "cell_type": "markdown",
   "metadata": {},
   "source": [
    "### Applying a Linear Model\n",
    "\n",
    "Understand the linear relationship between putts, greens, and fairways, with a target variable of score."
   ]
  },
  {
   "cell_type": "code",
   "execution_count": 152,
   "metadata": {},
   "outputs": [],
   "source": [
    "from sklearn.linear_model import LinearRegression\n",
    "from sklearn.ensemble import RandomForestRegressor\n",
    "from sklearn.model_selection import cross_val_score, KFold"
   ]
  },
  {
   "cell_type": "code",
   "execution_count": 157,
   "metadata": {},
   "outputs": [],
   "source": [
    "def fit_and_score_linear_model(df,target,model='linear'):\n",
    "\n",
    "    features = ['Putts','Fairways','Greens']\n",
    "    X = df[features]\n",
    "    y = df[target]\n",
    "    \n",
    "    lr = LinearRegression()\n",
    "    lr.fit(X,y)\n",
    "    y_pred = lr.predict(X)\n",
    "    r2 = lr.score(X,y)\n",
    "    coefficients = lr.coef_\n",
    "    intercept = lr.intercept_\n",
    "    frame = pd.DataFrame({'Original': y,'Predicted': y_pred})\n",
    "    model = lr\n",
    "    \n",
    "    print('coeffs:'+str(coefficients))\n",
    "    print('intercept:'+str(intercept))\n",
    "    print('r2:'+str(r2))\n",
    "    \n",
    "    return {'model':model, 'vals': frame,'score': r2, 'coeffs': coefficients}"
   ]
  },
  {
   "cell_type": "code",
   "execution_count": 158,
   "metadata": {},
   "outputs": [
    {
     "name": "stdout",
     "output_type": "stream",
     "text": [
      "coeffs:[ 1.25041109 -0.11996913 -1.98723359]\n",
      "intercept:58.29583056169011\n",
      "r2:0.5005286435494004\n"
     ]
    }
   ],
   "source": [
    "test1 = fit_and_score_linear_model(scores_summary,'Score','linear')"
   ]
  },
  {
   "cell_type": "code",
   "execution_count": 159,
   "metadata": {},
   "outputs": [
    {
     "name": "stdout",
     "output_type": "stream",
     "text": [
      "coeffs:[ 1.23777615 -0.06265284 -1.91760438]\n",
      "intercept:58.10202779759855\n",
      "r2:0.9205079679115369\n"
     ]
    }
   ],
   "source": [
    "test2 = fit_and_score_linear_model(scores_summary_added_pros,'Score','linear')"
   ]
  },
  {
   "cell_type": "code",
   "execution_count": 160,
   "metadata": {},
   "outputs": [
    {
     "name": "stdout",
     "output_type": "stream",
     "text": [
      "coeffs:[ 1.35318548 -0.18625921 -2.00997446]\n",
      "intercept:-15.885156320676888\n",
      "r2:0.509141104502872\n"
     ]
    }
   ],
   "source": [
    "test3 = fit_and_score_linear_model(scores_summary,'Relative Score w/ Rating','linear')"
   ]
  },
  {
   "cell_type": "code",
   "execution_count": 178,
   "metadata": {},
   "outputs": [],
   "source": [
    "IDEAL_MODEL = test2['model']"
   ]
  },
  {
   "cell_type": "markdown",
   "metadata": {},
   "source": [
    "The best performing model uses the data that has pro scores included. The coefficients from the linear model can be used to create an equation that predicts the score based on the number of putts, fairways, and greens. The number of greens hit has the biggest impact on overall score."
   ]
  },
  {
   "cell_type": "markdown",
   "metadata": {},
   "source": [
    "$$y = 1.2p - .06f - 1.9g + 58$$"
   ]
  },
  {
   "cell_type": "markdown",
   "metadata": {},
   "source": [
    "### Applying a Random Forest Regressor\n",
    "\n",
    "Generate a random forest of decision trees to understand the relationship between putts, greens, and fairways, with a target variable of score."
   ]
  },
  {
   "cell_type": "code",
   "execution_count": 171,
   "metadata": {},
   "outputs": [
    {
     "name": "stdout",
     "output_type": "stream",
     "text": [
      "mse: 40.196480000249856\n",
      "r2: -0.17128196886447014\n"
     ]
    }
   ],
   "source": [
    "features = ['Putts','Fairways','Greens']\n",
    "target = 'Score'\n",
    "X = scores_summary[features]\n",
    "y = scores_summary[target]\n",
    "\n",
    "rf = RandomForestRegressor()\n",
    "lr = LinearRegression()\n",
    "kf = KFold(n_splits = 5)\n",
    "\n",
    "scores = cross_val_score(lr,X,y,scoring='neg_mean_squared_error',cv=kf)\n",
    "print('mse: ' + str(np.mean(-scores)))\n",
    "scores = cross_val_score(rf,X,y,scoring='r2',cv=kf)\n",
    "print('r2: ' + str(np.mean(scores)))"
   ]
  },
  {
   "cell_type": "markdown",
   "metadata": {},
   "source": [
    "### Output and Optimization\n",
    "\n",
    "There are a few ways to use the model in order to generate a prediction. You can use the linear equation to solve for the target score given a specific stats. Or you can provide a range for each stat and use an optimization algorithm to predict the lowest score possible.\n"
   ]
  },
  {
   "cell_type": "code",
   "execution_count": 198,
   "metadata": {},
   "outputs": [],
   "source": [
    "putts = 30.0\n",
    "fairways = 6.0\n",
    "greens = 10.0"
   ]
  },
  {
   "cell_type": "code",
   "execution_count": 199,
   "metadata": {},
   "outputs": [
    {
     "data": {
      "text/plain": [
       "75.68335154065976"
      ]
     },
     "execution_count": 199,
     "metadata": {},
     "output_type": "execute_result"
    }
   ],
   "source": [
    "IDEAL_MODEL.predict(pd.DataFrame({'Putts': [putts],'Fairways': [fairways],'Greens': [greens]}))[0]"
   ]
  },
  {
   "cell_type": "code",
   "execution_count": 202,
   "metadata": {},
   "outputs": [
    {
     "data": {
      "text/plain": [
       "44.73736863884062"
      ]
     },
     "execution_count": 202,
     "metadata": {},
     "output_type": "execute_result"
    }
   ],
   "source": [
    "from scipy.optimize import linprog\n",
    "\n",
    "c = IDEAL_MODEL.coef_\n",
    "putts_bounds = (18,60)\n",
    "fairways_bounds = (0,18)\n",
    "greens_bounds = (0,18)\n",
    "result = linprog(c,  bounds=[putts_bounds, fairways_bounds, greens_bounds])\n",
    "output = result.fun + IDEAL_MODEL.intercept_\n",
    "output"
   ]
  }
 ],
 "metadata": {
  "kernelspec": {
   "display_name": "Python 3",
   "language": "python",
   "name": "python3"
  },
  "language_info": {
   "codemirror_mode": {
    "name": "ipython",
    "version": 3
   },
   "file_extension": ".py",
   "mimetype": "text/x-python",
   "name": "python",
   "nbconvert_exporter": "python",
   "pygments_lexer": "ipython3",
   "version": "3.7.6"
  }
 },
 "nbformat": 4,
 "nbformat_minor": 4
}
