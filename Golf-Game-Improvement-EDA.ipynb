{
 "cells": [
  {
   "cell_type": "markdown",
   "metadata": {},
   "source": [
    "# Golf Game Improvement EDA\n",
    "\n",
    "\n",
    "**Overview :**\n",
    "\n",
    "How well a player scores in golf is based on his/her skills in various parts of the game. It takes practice with a specific purpose in mind to score better. This data project will give users specific areas to practice in order to reach a specific goal, helping people improve their games.\n",
    "\n",
    "**Function :**\n",
    "\n",
    "- Input: \"Please input your desired\" + Score\n",
    "- Output: \"The typical player with this score has the following stats:\" + Greens + Putts + Fairways + \"This is what you should aim for in your next round.\"\n",
    "\n",
    "**Definitions :**\n",
    "\n",
    "- Score (INT): The total number of shots taken in the round.\n",
    "- Greens (INT): The number of greens in regulation (out of 18). [More Info](https://www.liveabout.com/what-is-green-in-regulation-gir-1560864)\n",
    "- Putts (INT): The total number of putts taken in the round.\n",
    "- Fairways (INT): The total number of fairways hit in a round (out of 14 assuming a course with 14 fairways)\n",
    "\n",
    "**Concerns :**\n",
    "\n",
    "- Skills are highly correlated. When you hit the fairway, you are more likely to get on the green.\n",
    "- How to deal with courses that have different difficulty levels??\n",
    "- There are multiple combinations to shooting a particular score. You could hit every green and make few putts, or hit few greens and make all your putts. How do we accommodate this?\n",
    "- Different courses have different numbers of fairways depending on how many par 3's they have"
   ]
  },
  {
   "cell_type": "markdown",
   "metadata": {},
   "source": [
    "### Personal Data\n",
    "\n",
    "Each record in my data set represents a round of golf that I played and includes details about that round such as the score and stats (e.g. number of putts, number of fairways). I cleaned the data below..."
   ]
  },
  {
   "cell_type": "code",
   "execution_count": 1,
   "metadata": {},
   "outputs": [
    {
     "data": {
      "text/html": [
       "<div>\n",
       "<style scoped>\n",
       "    .dataframe tbody tr th:only-of-type {\n",
       "        vertical-align: middle;\n",
       "    }\n",
       "\n",
       "    .dataframe tbody tr th {\n",
       "        vertical-align: top;\n",
       "    }\n",
       "\n",
       "    .dataframe thead th {\n",
       "        text-align: right;\n",
       "    }\n",
       "</style>\n",
       "<table border=\"1\" class=\"dataframe\">\n",
       "  <thead>\n",
       "    <tr style=\"text-align: right;\">\n",
       "      <th></th>\n",
       "      <th>index</th>\n",
       "      <th>Rounds</th>\n",
       "      <th>Date</th>\n",
       "      <th>Course</th>\n",
       "      <th>Par</th>\n",
       "      <th>Score</th>\n",
       "      <th>Putts</th>\n",
       "      <th>Fairways</th>\n",
       "      <th>GIR</th>\n",
       "      <th>Holes Played</th>\n",
       "      <th>Relative Score</th>\n",
       "    </tr>\n",
       "  </thead>\n",
       "  <tbody>\n",
       "    <tr>\n",
       "      <th>0</th>\n",
       "      <td>0</td>\n",
       "      <td>1</td>\n",
       "      <td>2019-07-20</td>\n",
       "      <td>Wilshire Country Club</td>\n",
       "      <td>71</td>\n",
       "      <td>98</td>\n",
       "      <td>34.0</td>\n",
       "      <td>5.0</td>\n",
       "      <td>4.0</td>\n",
       "      <td>18</td>\n",
       "      <td>16</td>\n",
       "    </tr>\n",
       "    <tr>\n",
       "      <th>1</th>\n",
       "      <td>1</td>\n",
       "      <td>2</td>\n",
       "      <td>2019-08-02</td>\n",
       "      <td>Wilshire Country Club</td>\n",
       "      <td>35</td>\n",
       "      <td>45</td>\n",
       "      <td>15.0</td>\n",
       "      <td>4.0</td>\n",
       "      <td>1.0</td>\n",
       "      <td>9</td>\n",
       "      <td>9</td>\n",
       "    </tr>\n",
       "    <tr>\n",
       "      <th>2</th>\n",
       "      <td>2</td>\n",
       "      <td>3</td>\n",
       "      <td>2019-07-27</td>\n",
       "      <td>Wilshire Country Club</td>\n",
       "      <td>71</td>\n",
       "      <td>98</td>\n",
       "      <td>33.0</td>\n",
       "      <td>10.0</td>\n",
       "      <td>3.0</td>\n",
       "      <td>18</td>\n",
       "      <td>15</td>\n",
       "    </tr>\n",
       "    <tr>\n",
       "      <th>3</th>\n",
       "      <td>4</td>\n",
       "      <td>5</td>\n",
       "      <td>2019-06-16</td>\n",
       "      <td>Sandpiper</td>\n",
       "      <td>72</td>\n",
       "      <td>86</td>\n",
       "      <td>32.0</td>\n",
       "      <td>5.0</td>\n",
       "      <td>4.0</td>\n",
       "      <td>18</td>\n",
       "      <td>18</td>\n",
       "    </tr>\n",
       "    <tr>\n",
       "      <th>4</th>\n",
       "      <td>6</td>\n",
       "      <td>7</td>\n",
       "      <td>2019-08-17</td>\n",
       "      <td>Wilshire Country Club</td>\n",
       "      <td>71</td>\n",
       "      <td>91</td>\n",
       "      <td>29.0</td>\n",
       "      <td>5.0</td>\n",
       "      <td>0.0</td>\n",
       "      <td>18</td>\n",
       "      <td>20</td>\n",
       "    </tr>\n",
       "    <tr>\n",
       "      <th>5</th>\n",
       "      <td>7</td>\n",
       "      <td>8</td>\n",
       "      <td>2019-08-24</td>\n",
       "      <td>Wilshire Country Club</td>\n",
       "      <td>71</td>\n",
       "      <td>83</td>\n",
       "      <td>28.0</td>\n",
       "      <td>5.0</td>\n",
       "      <td>4.0</td>\n",
       "      <td>18</td>\n",
       "      <td>27</td>\n",
       "    </tr>\n",
       "    <tr>\n",
       "      <th>6</th>\n",
       "      <td>8</td>\n",
       "      <td>9</td>\n",
       "      <td>2019-09-07</td>\n",
       "      <td>Simi Hills</td>\n",
       "      <td>71</td>\n",
       "      <td>89</td>\n",
       "      <td>29.0</td>\n",
       "      <td>5.0</td>\n",
       "      <td>3.0</td>\n",
       "      <td>18</td>\n",
       "      <td>14</td>\n",
       "    </tr>\n",
       "    <tr>\n",
       "      <th>7</th>\n",
       "      <td>9</td>\n",
       "      <td>10</td>\n",
       "      <td>2019-09-14</td>\n",
       "      <td>Brookside #2</td>\n",
       "      <td>70</td>\n",
       "      <td>95</td>\n",
       "      <td>37.0</td>\n",
       "      <td>4.0</td>\n",
       "      <td>3.0</td>\n",
       "      <td>18</td>\n",
       "      <td>13</td>\n",
       "    </tr>\n",
       "    <tr>\n",
       "      <th>8</th>\n",
       "      <td>10</td>\n",
       "      <td>11</td>\n",
       "      <td>2020-01-19</td>\n",
       "      <td>Los Verdes</td>\n",
       "      <td>71</td>\n",
       "      <td>86</td>\n",
       "      <td>33.0</td>\n",
       "      <td>7.0</td>\n",
       "      <td>5.0</td>\n",
       "      <td>18</td>\n",
       "      <td>27</td>\n",
       "    </tr>\n",
       "    <tr>\n",
       "      <th>9</th>\n",
       "      <td>11</td>\n",
       "      <td>12</td>\n",
       "      <td>2020-04-24</td>\n",
       "      <td>Los Robles</td>\n",
       "      <td>69</td>\n",
       "      <td>85</td>\n",
       "      <td>31.0</td>\n",
       "      <td>5.0</td>\n",
       "      <td>5.0</td>\n",
       "      <td>18</td>\n",
       "      <td>10</td>\n",
       "    </tr>\n",
       "    <tr>\n",
       "      <th>10</th>\n",
       "      <td>12</td>\n",
       "      <td>13</td>\n",
       "      <td>2019-11-25</td>\n",
       "      <td>Owl's Nest</td>\n",
       "      <td>72</td>\n",
       "      <td>92</td>\n",
       "      <td>36.0</td>\n",
       "      <td>7.0</td>\n",
       "      <td>5.0</td>\n",
       "      <td>18</td>\n",
       "      <td>27</td>\n",
       "    </tr>\n",
       "    <tr>\n",
       "      <th>11</th>\n",
       "      <td>13</td>\n",
       "      <td>14</td>\n",
       "      <td>2019-12-07</td>\n",
       "      <td>Wilshire Country Club</td>\n",
       "      <td>35</td>\n",
       "      <td>44</td>\n",
       "      <td>12.0</td>\n",
       "      <td>1.0</td>\n",
       "      <td>2.0</td>\n",
       "      <td>9</td>\n",
       "      <td>20</td>\n",
       "    </tr>\n",
       "  </tbody>\n",
       "</table>\n",
       "</div>"
      ],
      "text/plain": [
       "    index  Rounds       Date                 Course  Par  Score  Putts  \\\n",
       "0       0       1 2019-07-20  Wilshire Country Club   71     98   34.0   \n",
       "1       1       2 2019-08-02  Wilshire Country Club   35     45   15.0   \n",
       "2       2       3 2019-07-27  Wilshire Country Club   71     98   33.0   \n",
       "3       4       5 2019-06-16              Sandpiper   72     86   32.0   \n",
       "4       6       7 2019-08-17  Wilshire Country Club   71     91   29.0   \n",
       "5       7       8 2019-08-24  Wilshire Country Club   71     83   28.0   \n",
       "6       8       9 2019-09-07             Simi Hills   71     89   29.0   \n",
       "7       9      10 2019-09-14           Brookside #2   70     95   37.0   \n",
       "8      10      11 2020-01-19             Los Verdes   71     86   33.0   \n",
       "9      11      12 2020-04-24             Los Robles   69     85   31.0   \n",
       "10     12      13 2019-11-25             Owl's Nest   72     92   36.0   \n",
       "11     13      14 2019-12-07  Wilshire Country Club   35     44   12.0   \n",
       "\n",
       "    Fairways  GIR  Holes Played  Relative Score  \n",
       "0        5.0  4.0            18              16  \n",
       "1        4.0  1.0             9               9  \n",
       "2       10.0  3.0            18              15  \n",
       "3        5.0  4.0            18              18  \n",
       "4        5.0  0.0            18              20  \n",
       "5        5.0  4.0            18              27  \n",
       "6        5.0  3.0            18              14  \n",
       "7        4.0  3.0            18              13  \n",
       "8        7.0  5.0            18              27  \n",
       "9        5.0  5.0            18              10  \n",
       "10       7.0  5.0            18              27  \n",
       "11       1.0  2.0             9              20  "
      ]
     },
     "execution_count": 1,
     "metadata": {},
     "output_type": "execute_result"
    }
   ],
   "source": [
    "import pandas as pd\n",
    "import matplotlib.pyplot as mpl\n",
    "import seaborn as sns\n",
    "import matplotlib.pyplot as plt\n",
    "\n",
    "%matplotlib inline\n",
    "\n",
    "# Import Round Data\n",
    "round_data = pd.read_csv('./data/rounds.csv', usecols=[\"Name\", \"Date\", \"Course\"])\n",
    "round_data.columns = ['Rounds', 'Date', 'Course']\n",
    "round_data['Date'] = pd.to_datetime(round_data['Date'])\n",
    "\n",
    "# Import Hole Data\n",
    "hole_data = pd.read_csv('./data/holes.csv')\n",
    "hole_data['GIR'] = hole_data['GIR'].map({'checked': '1'})\n",
    "hole_data['GIR'] = hole_data['GIR'].astype('float64')\n",
    "hole_data['Sand'] = hole_data['Sand'].map({'Y': '1', 'N': '0'})\n",
    "hole_data['Sand'] = hole_data['Sand'].astype('float64')\n",
    "hole_data['Scrambling'] = hole_data['Scrambling'].map({'Y': '1', 'N': '0'})\n",
    "hole_data['Scrambling'] = hole_data['Scrambling'].astype('float64')\n",
    "hole_data['Fairways'] = hole_data['Fairways'].map({'Y': '1', 'N': '0'})\n",
    "hole_data['Fairways'] = hole_data['Fairways'].astype('float64')\n",
    "\n",
    "# Create Scores Summary Table\n",
    "scores_summary = hole_data.groupby(['Rounds'])[['Par', 'Score', 'Putts', 'Fairways', 'GIR']].sum()\n",
    "holes_played = hole_data['Rounds'].value_counts()\n",
    "relative_score = scores_summary.Score - scores_summary.Par\n",
    "relative_score.sort_index(inplace = True)\n",
    "relative_score.index = holes_played.index - 1\n",
    "holes_played.sort_index(inplace = True)\n",
    "holes_played.index = holes_played.index - 1\n",
    "scores_summary = round_data.merge(scores_summary, on='Rounds')\n",
    "scores_summary['Holes Played'] = holes_played\n",
    "scores_summary['Relative Score'] = relative_score\n",
    "\n",
    "#Remove records without stats tracked\n",
    "scores_summary.drop([3,5], inplace=True)\n",
    "scores_summary.reset_index(inplace=True)\n",
    "\n",
    "scores_summary"
   ]
  },
  {
   "cell_type": "code",
   "execution_count": 2,
   "metadata": {},
   "outputs": [
    {
     "data": {
      "text/plain": [
       "<matplotlib.axes._subplots.AxesSubplot at 0x1a20a88f90>"
      ]
     },
     "execution_count": 2,
     "metadata": {},
     "output_type": "execute_result"
    },
    {
     "data": {
      "image/png": "[encoded data removed]",
      "text/plain": [
       "<Figure size 432x288 with 1 Axes>"
      ]
     },
     "metadata": {
      "needs_background": "light"
     },
     "output_type": "display_data"
    }
   ],
   "source": [
    "# Scores plotted over time\n",
    "scores_summary[scores_summary[\"Holes Played\"] == 18].plot(x=\"Date\", y=\"Score\")"
   ]
  },
  {
   "cell_type": "code",
   "execution_count": 3,
   "metadata": {},
   "outputs": [
    {
     "data": {
      "text/plain": [
       "<matplotlib.axes._subplots.AxesSubplot at 0x1a21235810>"
      ]
     },
     "execution_count": 3,
     "metadata": {},
     "output_type": "execute_result"
    },
    {
     "data": {
      "image/png": "[encoded data removed]",
      "text/plain": [
       "<Figure size 432x288 with 1 Axes>"
      ]
     },
     "metadata": {
      "needs_background": "light"
     },
     "output_type": "display_data"
    }
   ],
   "source": [
    "# Distribution of scores\n",
    "scores_summary[scores_summary[\"Holes Played\"] == 18]['Score'].hist()"
   ]
  },
  {
   "cell_type": "code",
   "execution_count": 4,
   "metadata": {},
   "outputs": [],
   "source": [
    "# Function to find the average of stats given a specific range of scores.\n",
    "\n",
    "def find_stats(input_score):\n",
    "    df = scores_summary[(scores_summary[\"Score\"] > input_score) & (scores_summary[\"Score\"] < input_score + 10) & (scores_summary[\"Holes Played\"] == 18)]\n",
    "    df = pd.DataFrame(df[['Putts','Fairways','GIR']].mean())\n",
    "    df.columns = [str(input_score) + 's']\n",
    "    return df"
   ]
  },
  {
   "cell_type": "code",
   "execution_count": 5,
   "metadata": {},
   "outputs": [
    {
     "data": {
      "text/html": [
       "<div>\n",
       "<style scoped>\n",
       "    .dataframe tbody tr th:only-of-type {\n",
       "        vertical-align: middle;\n",
       "    }\n",
       "\n",
       "    .dataframe tbody tr th {\n",
       "        vertical-align: top;\n",
       "    }\n",
       "\n",
       "    .dataframe thead th {\n",
       "        text-align: right;\n",
       "    }\n",
       "</style>\n",
       "<table border=\"1\" class=\"dataframe\">\n",
       "  <thead>\n",
       "    <tr style=\"text-align: right;\">\n",
       "      <th></th>\n",
       "      <th>80s</th>\n",
       "      <th>90s</th>\n",
       "    </tr>\n",
       "  </thead>\n",
       "  <tbody>\n",
       "    <tr>\n",
       "      <th>Putts</th>\n",
       "      <td>30.6</td>\n",
       "      <td>33.8</td>\n",
       "    </tr>\n",
       "    <tr>\n",
       "      <th>Fairways</th>\n",
       "      <td>5.4</td>\n",
       "      <td>6.2</td>\n",
       "    </tr>\n",
       "    <tr>\n",
       "      <th>GIR</th>\n",
       "      <td>4.2</td>\n",
       "      <td>3.0</td>\n",
       "    </tr>\n",
       "  </tbody>\n",
       "</table>\n",
       "</div>"
      ],
      "text/plain": [
       "           80s   90s\n",
       "Putts     30.6  33.8\n",
       "Fairways   5.4   6.2\n",
       "GIR        4.2   3.0"
      ]
     },
     "execution_count": 5,
     "metadata": {},
     "output_type": "execute_result"
    }
   ],
   "source": [
    "# Find the average stats for all scores in ranges 80-90 and 90-100\n",
    "\n",
    "shoot_80s = find_stats(input_score = 80)\n",
    "shoot_90s = find_stats(input_score = 90)\n",
    "shoot_80s.merge(shoot_90s, left_index=True, right_index = True)"
   ]
  },
  {
   "cell_type": "code",
   "execution_count": 6,
   "metadata": {},
   "outputs": [
    {
     "data": {
      "text/plain": [
       "<matplotlib.axes._subplots.AxesSubplot at 0x1a21372510>"
      ]
     },
     "execution_count": 6,
     "metadata": {},
     "output_type": "execute_result"
    },
    {
     "data": {
      "image/png": "[encoded data removed]",
      "text/plain": [
       "<Figure size 432x288 with 2 Axes>"
      ]
     },
     "metadata": {
      "needs_background": "light"
     },
     "output_type": "display_data"
    }
   ],
   "source": [
    "# What stats are most highly correlated with score?\n",
    "correlations = scores_summary[[\"Putts\", \"Fairways\", \"GIR\", \"Score\"]].corr()\n",
    "sns.heatmap(correlations, cmap='coolwarm')"
   ]
  },
  {
   "cell_type": "code",
   "execution_count": 7,
   "metadata": {},
   "outputs": [
    {
     "data": {
      "text/plain": [
       "<matplotlib.axes._subplots.AxesSubplot at 0x1a2156c410>"
      ]
     },
     "execution_count": 7,
     "metadata": {},
     "output_type": "execute_result"
    },
    {
     "data": {
      "image/png": "[encoded data removed]",
      "text/plain": [
       "<Figure size 1152x216 with 3 Axes>"
      ]
     },
     "metadata": {
      "needs_background": "light"
     },
     "output_type": "display_data"
    }
   ],
   "source": [
    "# Show the relationship between each stat and the score using a scatterplot\n",
    "fig, axs = plt.subplots(1, 3, sharey=False)\n",
    "scores_summary[scores_summary[\"Holes Played\"] == 18].plot(kind=\"scatter\", x=\"Putts\", y=\"Score\", ax=axs[0], figsize=(16, 3))\n",
    "scores_summary[scores_summary[\"Holes Played\"] == 18].plot(kind=\"scatter\", x=\"GIR\", y=\"Score\", ax=axs[1], figsize=(16, 3))\n",
    "scores_summary[scores_summary[\"Holes Played\"] == 18].plot(kind=\"scatter\", x=\"Fairways\", y=\"Score\", ax=axs[2], figsize=(16, 3))"
   ]
  },
  {
   "cell_type": "markdown",
   "metadata": {},
   "source": [
    "### PGA Tour Data\n",
    "\n",
    "Using a publically available dataset with the stats and average scores for professional golfers could be a way of expanding my dataset. Each record in this PGA Tour dataset represents a player and a summary of statistics for all the rounds they played between 2010 and 2018."
   ]
  },
  {
   "cell_type": "code",
   "execution_count": 8,
   "metadata": {},
   "outputs": [],
   "source": [
    "# Import PGA Tour Data\n",
    "data = pd.read_csv('./data/pgaTourData.csv')"
   ]
  },
  {
   "cell_type": "code",
   "execution_count": 9,
   "metadata": {},
   "outputs": [
    {
     "data": {
      "text/html": [
       "<div>\n",
       "<style scoped>\n",
       "    .dataframe tbody tr th:only-of-type {\n",
       "        vertical-align: middle;\n",
       "    }\n",
       "\n",
       "    .dataframe tbody tr th {\n",
       "        vertical-align: top;\n",
       "    }\n",
       "\n",
       "    .dataframe thead th {\n",
       "        text-align: right;\n",
       "    }\n",
       "</style>\n",
       "<table border=\"1\" class=\"dataframe\">\n",
       "  <thead>\n",
       "    <tr style=\"text-align: right;\">\n",
       "      <th></th>\n",
       "      <th>Greens</th>\n",
       "      <th>Putts</th>\n",
       "      <th>Score</th>\n",
       "      <th>Fairways</th>\n",
       "    </tr>\n",
       "  </thead>\n",
       "  <tbody>\n",
       "    <tr>\n",
       "      <th>0</th>\n",
       "      <td>13.2318</td>\n",
       "      <td>29.93</td>\n",
       "      <td>69.617</td>\n",
       "      <td>10.5266</td>\n",
       "    </tr>\n",
       "    <tr>\n",
       "      <th>1</th>\n",
       "      <td>12.2796</td>\n",
       "      <td>29.31</td>\n",
       "      <td>70.758</td>\n",
       "      <td>10.3012</td>\n",
       "    </tr>\n",
       "    <tr>\n",
       "      <th>2</th>\n",
       "      <td>12.3606</td>\n",
       "      <td>29.12</td>\n",
       "      <td>70.432</td>\n",
       "      <td>10.1136</td>\n",
       "    </tr>\n",
       "    <tr>\n",
       "      <th>3</th>\n",
       "      <td>12.3840</td>\n",
       "      <td>29.17</td>\n",
       "      <td>70.015</td>\n",
       "      <td>10.0716</td>\n",
       "    </tr>\n",
       "    <tr>\n",
       "      <th>4</th>\n",
       "      <td>12.0816</td>\n",
       "      <td>29.11</td>\n",
       "      <td>71.038</td>\n",
       "      <td>10.0016</td>\n",
       "    </tr>\n",
       "    <tr>\n",
       "      <th>...</th>\n",
       "      <td>...</td>\n",
       "      <td>...</td>\n",
       "      <td>...</td>\n",
       "      <td>...</td>\n",
       "    </tr>\n",
       "    <tr>\n",
       "      <th>1673</th>\n",
       "      <td>11.7234</td>\n",
       "      <td>28.79</td>\n",
       "      <td>69.966</td>\n",
       "      <td>7.3724</td>\n",
       "    </tr>\n",
       "    <tr>\n",
       "      <th>1674</th>\n",
       "      <td>11.8188</td>\n",
       "      <td>29.78</td>\n",
       "      <td>71.697</td>\n",
       "      <td>7.3094</td>\n",
       "    </tr>\n",
       "    <tr>\n",
       "      <th>1675</th>\n",
       "      <td>11.8584</td>\n",
       "      <td>29.14</td>\n",
       "      <td>70.953</td>\n",
       "      <td>7.1806</td>\n",
       "    </tr>\n",
       "    <tr>\n",
       "      <th>1676</th>\n",
       "      <td>11.0952</td>\n",
       "      <td>28.88</td>\n",
       "      <td>72.194</td>\n",
       "      <td>7.1778</td>\n",
       "    </tr>\n",
       "    <tr>\n",
       "      <th>1677</th>\n",
       "      <td>11.6622</td>\n",
       "      <td>29.41</td>\n",
       "      <td>71.882</td>\n",
       "      <td>7.0210</td>\n",
       "    </tr>\n",
       "  </tbody>\n",
       "</table>\n",
       "<p>1678 rows × 4 columns</p>\n",
       "</div>"
      ],
      "text/plain": [
       "       Greens  Putts   Score  Fairways\n",
       "0     13.2318  29.93  69.617   10.5266\n",
       "1     12.2796  29.31  70.758   10.3012\n",
       "2     12.3606  29.12  70.432   10.1136\n",
       "3     12.3840  29.17  70.015   10.0716\n",
       "4     12.0816  29.11  71.038   10.0016\n",
       "...       ...    ...     ...       ...\n",
       "1673  11.7234  28.79  69.966    7.3724\n",
       "1674  11.8188  29.78  71.697    7.3094\n",
       "1675  11.8584  29.14  70.953    7.1806\n",
       "1676  11.0952  28.88  72.194    7.1778\n",
       "1677  11.6622  29.41  71.882    7.0210\n",
       "\n",
       "[1678 rows x 4 columns]"
      ]
     },
     "execution_count": 9,
     "metadata": {},
     "output_type": "execute_result"
    }
   ],
   "source": [
    "# Remove NA records.\n",
    "cleaned_data = data[data['gir'].notna()]\n",
    "\n",
    "# Remove unecessary features\n",
    "cleaned_data = cleaned_data[['gir','Average Putts','Average Score','Fairway Percentage']]\n",
    "\n",
    "# Convert average percentages per round into averages totals per round \n",
    "cleaned_data['gir'] = (cleaned_data['gir']/100)*18\n",
    "cleaned_data['Fairway Percentage'] = (cleaned_data['Fairway Percentage']/100)*14\n",
    "\n",
    "# Rename columns\n",
    "cleaned_data.columns = ['Greens','Putts','Score','Fairways']\n",
    "cleaned_data"
   ]
  },
  {
   "cell_type": "code",
   "execution_count": 10,
   "metadata": {},
   "outputs": [
    {
     "data": {
      "text/plain": [
       "<matplotlib.axes._subplots.AxesSubplot at 0x1a2242c110>"
      ]
     },
     "execution_count": 10,
     "metadata": {},
     "output_type": "execute_result"
    },
    {
     "data": {
      "image/png": "[encoded data removed]",
      "text/plain": [
       "<Figure size 432x288 with 1 Axes>"
      ]
     },
     "metadata": {
      "needs_background": "light"
     },
     "output_type": "display_data"
    }
   ],
   "source": [
    "# Distrubution of the average scores for all 2312 players in the dataset\n",
    "cleaned_data['Score'].plot(kind='hist')"
   ]
  },
  {
   "cell_type": "code",
   "execution_count": 12,
   "metadata": {},
   "outputs": [
    {
     "data": {
      "text/html": [
       "<div>\n",
       "<style scoped>\n",
       "    .dataframe tbody tr th:only-of-type {\n",
       "        vertical-align: middle;\n",
       "    }\n",
       "\n",
       "    .dataframe tbody tr th {\n",
       "        vertical-align: top;\n",
       "    }\n",
       "\n",
       "    .dataframe thead th {\n",
       "        text-align: right;\n",
       "    }\n",
       "</style>\n",
       "<table border=\"1\" class=\"dataframe\">\n",
       "  <thead>\n",
       "    <tr style=\"text-align: right;\">\n",
       "      <th></th>\n",
       "      <th>Fairways</th>\n",
       "      <th>Greens</th>\n",
       "      <th>Putts</th>\n",
       "      <th>Score</th>\n",
       "    </tr>\n",
       "  </thead>\n",
       "  <tbody>\n",
       "    <tr>\n",
       "      <th>69</th>\n",
       "      <td>8.668312</td>\n",
       "      <td>12.181105</td>\n",
       "      <td>28.902197</td>\n",
       "      <td>69.676947</td>\n",
       "    </tr>\n",
       "    <tr>\n",
       "      <th>70</th>\n",
       "      <td>8.689830</td>\n",
       "      <td>11.945433</td>\n",
       "      <td>29.111790</td>\n",
       "      <td>70.601705</td>\n",
       "    </tr>\n",
       "    <tr>\n",
       "      <th>71</th>\n",
       "      <td>8.527404</td>\n",
       "      <td>11.660652</td>\n",
       "      <td>29.246195</td>\n",
       "      <td>71.385104</td>\n",
       "    </tr>\n",
       "    <tr>\n",
       "      <th>72</th>\n",
       "      <td>8.320646</td>\n",
       "      <td>11.344292</td>\n",
       "      <td>29.486923</td>\n",
       "      <td>72.297560</td>\n",
       "    </tr>\n",
       "  </tbody>\n",
       "</table>\n",
       "</div>"
      ],
      "text/plain": [
       "    Fairways     Greens      Putts      Score\n",
       "69  8.668312  12.181105  28.902197  69.676947\n",
       "70  8.689830  11.945433  29.111790  70.601705\n",
       "71  8.527404  11.660652  29.246195  71.385104\n",
       "72  8.320646  11.344292  29.486923  72.297560"
      ]
     },
     "execution_count": 12,
     "metadata": {},
     "output_type": "execute_result"
    }
   ],
   "source": [
    "# Function to find the average of stats given a specific score.\n",
    "\n",
    "def find_avg_stats(score):\n",
    "    stats = cleaned_data[(cleaned_data['Score'] >= score) & (cleaned_data['Score'] < (score+1))].mean()\n",
    "    return stats.rename(score)\n",
    "\n",
    "attributes = pd.DataFrame()\n",
    "for i in range(69,73):\n",
    "    stats = find_avg_stats(i)\n",
    "    attributes = attributes.append(stats)\n",
    "    \n",
    "attributes"
   ]
  }
 ],
 "metadata": {
  "kernelspec": {
   "display_name": "Python 3",
   "language": "python",
   "name": "python3"
  },
  "language_info": {
   "codemirror_mode": {
    "name": "ipython",
    "version": 3
   },
   "file_extension": ".py",
   "mimetype": "text/x-python",
   "name": "python",
   "nbconvert_exporter": "python",
   "pygments_lexer": "ipython3",
   "version": "3.7.6"
  }
 },
 "nbformat": 4,
 "nbformat_minor": 4
}
