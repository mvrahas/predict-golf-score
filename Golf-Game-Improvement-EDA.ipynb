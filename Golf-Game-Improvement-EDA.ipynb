{
 "cells": [
  {
   "cell_type": "markdown",
   "metadata": {},
   "source": [
    "# Golf Game Improvement EDA\n",
    "\n",
    "\n",
    "**Overview :**\n",
    "\n",
    "How well a player scores in golf is based on his/her skills in various parts of the game. It takes practice with a specific purpose in mind to score better. This data project will give users specific areas to practice in order to reach a specific goal, helping people improve their games.\n",
    "\n",
    "**Function :**\n",
    "\n",
    "- Input: \"Please input your desired\" + Score\n",
    "- Output: \"The typical player with this score has the following stats:\" + Greens + Putts + Fairways + \"This is what you should aim for in your next round.\"\n",
    "\n",
    "**Definitions :**\n",
    "\n",
    "- Score (INT): The total number of shots taken in the round.\n",
    "- Greens (INT): The number of greens in regulation (out of 18). [More Info](https://www.liveabout.com/what-is-green-in-regulation-gir-1560864)\n",
    "- Putts (INT): The total number of putts taken in the round.\n",
    "- Fairways (INT): The total number of fairways hit in a round (out of 14 assuming a course with 14 fairways)\n",
    "\n",
    "**Concerns :**\n",
    "\n",
    "- Skills are highly correlated. When you hit the fairway, you are more likely to get on the green.\n",
    "- How to deal with courses that have different difficulty levels??\n",
    "- There are multiple combinations to shooting a particular score. You could hit every green and make few putts, or hit few greens and make all your putts. How do we accommodate this?\n",
    "- Different courses have different numbers of fairways depending on how many par 3's they have"
   ]
  },
  {
   "cell_type": "markdown",
   "metadata": {},
   "source": [
    "### Personal Data\n",
    "\n",
    "Each record in my data set represents a round of golf that I played and includes details about that round such as the score and stats (e.g. number of putts, number of fairways). I cleaned the data below..."
   ]
  },
  {
   "cell_type": "code",
   "execution_count": 57,
   "metadata": {},
   "outputs": [],
   "source": [
    "import pandas as pd\n",
    "import matplotlib.pyplot as mpl\n",
    "import seaborn as sns\n",
    "import matplotlib.pyplot as plt\n",
    "\n",
    "%matplotlib inline"
   ]
  },
  {
   "cell_type": "code",
   "execution_count": 59,
   "metadata": {},
   "outputs": [
    {
     "data": {
      "text/html": [
       "<div>\n",
       "<style scoped>\n",
       "    .dataframe tbody tr th:only-of-type {\n",
       "        vertical-align: middle;\n",
       "    }\n",
       "\n",
       "    .dataframe tbody tr th {\n",
       "        vertical-align: top;\n",
       "    }\n",
       "\n",
       "    .dataframe thead th {\n",
       "        text-align: right;\n",
       "    }\n",
       "</style>\n",
       "<table border=\"1\" class=\"dataframe\">\n",
       "  <thead>\n",
       "    <tr style=\"text-align: right;\">\n",
       "      <th></th>\n",
       "      <th>Date</th>\n",
       "      <th>Course</th>\n",
       "      <th>Course Rating</th>\n",
       "      <th>Par</th>\n",
       "      <th>Score</th>\n",
       "      <th>Putts</th>\n",
       "      <th>Fairways</th>\n",
       "      <th>Greens</th>\n",
       "      <th>Holes Played</th>\n",
       "      <th>Relative Score</th>\n",
       "      <th>Relative Score w/ Rating</th>\n",
       "    </tr>\n",
       "  </thead>\n",
       "  <tbody>\n",
       "    <tr>\n",
       "      <th>0</th>\n",
       "      <td>2019-07-20</td>\n",
       "      <td>Wilshire Country Club</td>\n",
       "      <td>71.8</td>\n",
       "      <td>71</td>\n",
       "      <td>98</td>\n",
       "      <td>34.0</td>\n",
       "      <td>5.0</td>\n",
       "      <td>4.0</td>\n",
       "      <td>18</td>\n",
       "      <td>20</td>\n",
       "      <td>26.2</td>\n",
       "    </tr>\n",
       "    <tr>\n",
       "      <th>2</th>\n",
       "      <td>2019-07-27</td>\n",
       "      <td>Wilshire Country Club</td>\n",
       "      <td>71.8</td>\n",
       "      <td>71</td>\n",
       "      <td>98</td>\n",
       "      <td>33.0</td>\n",
       "      <td>10.0</td>\n",
       "      <td>3.0</td>\n",
       "      <td>18</td>\n",
       "      <td>16</td>\n",
       "      <td>26.2</td>\n",
       "    </tr>\n",
       "    <tr>\n",
       "      <th>3</th>\n",
       "      <td>2019-06-16</td>\n",
       "      <td>Sandpiper</td>\n",
       "      <td>75.1</td>\n",
       "      <td>72</td>\n",
       "      <td>86</td>\n",
       "      <td>32.0</td>\n",
       "      <td>5.0</td>\n",
       "      <td>4.0</td>\n",
       "      <td>18</td>\n",
       "      <td>25</td>\n",
       "      <td>10.9</td>\n",
       "    </tr>\n",
       "    <tr>\n",
       "      <th>4</th>\n",
       "      <td>2019-08-17</td>\n",
       "      <td>Wilshire Country Club</td>\n",
       "      <td>71.8</td>\n",
       "      <td>71</td>\n",
       "      <td>91</td>\n",
       "      <td>29.0</td>\n",
       "      <td>5.0</td>\n",
       "      <td>0.0</td>\n",
       "      <td>18</td>\n",
       "      <td>12</td>\n",
       "      <td>19.2</td>\n",
       "    </tr>\n",
       "    <tr>\n",
       "      <th>5</th>\n",
       "      <td>2019-08-24</td>\n",
       "      <td>Wilshire Country Club</td>\n",
       "      <td>71.8</td>\n",
       "      <td>71</td>\n",
       "      <td>83</td>\n",
       "      <td>28.0</td>\n",
       "      <td>5.0</td>\n",
       "      <td>4.0</td>\n",
       "      <td>18</td>\n",
       "      <td>20</td>\n",
       "      <td>11.2</td>\n",
       "    </tr>\n",
       "    <tr>\n",
       "      <th>6</th>\n",
       "      <td>2019-09-07</td>\n",
       "      <td>Simi Hills</td>\n",
       "      <td>70.3</td>\n",
       "      <td>71</td>\n",
       "      <td>89</td>\n",
       "      <td>29.0</td>\n",
       "      <td>5.0</td>\n",
       "      <td>3.0</td>\n",
       "      <td>18</td>\n",
       "      <td>27</td>\n",
       "      <td>18.7</td>\n",
       "    </tr>\n",
       "    <tr>\n",
       "      <th>7</th>\n",
       "      <td>2019-09-14</td>\n",
       "      <td>Brookside #2</td>\n",
       "      <td>68.9</td>\n",
       "      <td>70</td>\n",
       "      <td>95</td>\n",
       "      <td>37.0</td>\n",
       "      <td>4.0</td>\n",
       "      <td>3.0</td>\n",
       "      <td>18</td>\n",
       "      <td>14</td>\n",
       "      <td>26.1</td>\n",
       "    </tr>\n",
       "    <tr>\n",
       "      <th>8</th>\n",
       "      <td>2020-01-19</td>\n",
       "      <td>Los Verdes</td>\n",
       "      <td>72.2</td>\n",
       "      <td>71</td>\n",
       "      <td>86</td>\n",
       "      <td>33.0</td>\n",
       "      <td>7.0</td>\n",
       "      <td>5.0</td>\n",
       "      <td>18</td>\n",
       "      <td>13</td>\n",
       "      <td>13.8</td>\n",
       "    </tr>\n",
       "    <tr>\n",
       "      <th>9</th>\n",
       "      <td>2020-04-24</td>\n",
       "      <td>Los Robles</td>\n",
       "      <td>68.7</td>\n",
       "      <td>69</td>\n",
       "      <td>85</td>\n",
       "      <td>31.0</td>\n",
       "      <td>5.0</td>\n",
       "      <td>5.0</td>\n",
       "      <td>18</td>\n",
       "      <td>27</td>\n",
       "      <td>16.3</td>\n",
       "    </tr>\n",
       "    <tr>\n",
       "      <th>10</th>\n",
       "      <td>2019-11-25</td>\n",
       "      <td>Owl's Nest</td>\n",
       "      <td>71.2</td>\n",
       "      <td>72</td>\n",
       "      <td>92</td>\n",
       "      <td>36.0</td>\n",
       "      <td>7.0</td>\n",
       "      <td>5.0</td>\n",
       "      <td>18</td>\n",
       "      <td>10</td>\n",
       "      <td>20.8</td>\n",
       "    </tr>\n",
       "    <tr>\n",
       "      <th>11</th>\n",
       "      <td>2019-12-07</td>\n",
       "      <td>Wilshire Country Club</td>\n",
       "      <td>71.8</td>\n",
       "      <td>35</td>\n",
       "      <td>89</td>\n",
       "      <td>27.0</td>\n",
       "      <td>5.0</td>\n",
       "      <td>3.0</td>\n",
       "      <td>18</td>\n",
       "      <td>25</td>\n",
       "      <td>17.2</td>\n",
       "    </tr>\n",
       "    <tr>\n",
       "      <th>12</th>\n",
       "      <td>2020-05-09</td>\n",
       "      <td>San Juan Hills Golf Club</td>\n",
       "      <td>70.3</td>\n",
       "      <td>71</td>\n",
       "      <td>87</td>\n",
       "      <td>34.0</td>\n",
       "      <td>9.0</td>\n",
       "      <td>4.0</td>\n",
       "      <td>18</td>\n",
       "      <td>27</td>\n",
       "      <td>16.7</td>\n",
       "    </tr>\n",
       "  </tbody>\n",
       "</table>\n",
       "</div>"
      ],
      "text/plain": [
       "         Date                    Course  Course Rating  Par  Score  Putts  \\\n",
       "0  2019-07-20     Wilshire Country Club           71.8   71     98   34.0   \n",
       "2  2019-07-27     Wilshire Country Club           71.8   71     98   33.0   \n",
       "3  2019-06-16                 Sandpiper           75.1   72     86   32.0   \n",
       "4  2019-08-17     Wilshire Country Club           71.8   71     91   29.0   \n",
       "5  2019-08-24     Wilshire Country Club           71.8   71     83   28.0   \n",
       "6  2019-09-07                Simi Hills           70.3   71     89   29.0   \n",
       "7  2019-09-14              Brookside #2           68.9   70     95   37.0   \n",
       "8  2020-01-19                Los Verdes           72.2   71     86   33.0   \n",
       "9  2020-04-24                Los Robles           68.7   69     85   31.0   \n",
       "10 2019-11-25                Owl's Nest           71.2   72     92   36.0   \n",
       "11 2019-12-07     Wilshire Country Club           71.8   35     89   27.0   \n",
       "12 2020-05-09  San Juan Hills Golf Club           70.3   71     87   34.0   \n",
       "\n",
       "    Fairways  Greens  Holes Played  Relative Score  Relative Score w/ Rating  \n",
       "0        5.0     4.0            18              20                      26.2  \n",
       "2       10.0     3.0            18              16                      26.2  \n",
       "3        5.0     4.0            18              25                      10.9  \n",
       "4        5.0     0.0            18              12                      19.2  \n",
       "5        5.0     4.0            18              20                      11.2  \n",
       "6        5.0     3.0            18              27                      18.7  \n",
       "7        4.0     3.0            18              14                      26.1  \n",
       "8        7.0     5.0            18              13                      13.8  \n",
       "9        5.0     5.0            18              27                      16.3  \n",
       "10       7.0     5.0            18              10                      20.8  \n",
       "11       5.0     3.0            18              25                      17.2  \n",
       "12       9.0     4.0            18              27                      16.7  "
      ]
     },
     "execution_count": 59,
     "metadata": {},
     "output_type": "execute_result"
    }
   ],
   "source": [
    "# Import Round Data\n",
    "round_data = pd.read_csv('./data/rounds.csv', usecols=[\"Name\", \"Date\", \"Course\", \"Course Rating\"])\n",
    "round_data.columns = ['Rounds', 'Date', 'Course', 'Course Rating']\n",
    "round_data['Date'] = pd.to_datetime(round_data['Date'])\n",
    "\n",
    "# Import Hole Data\n",
    "hole_data = pd.read_csv('./data/holes.csv')\n",
    "hole_data['Greens'] = hole_data['Greens'].map({'checked': '1'})\n",
    "hole_data['Greens'] = hole_data['Greens'].astype('float64')\n",
    "hole_data['Sand'] = hole_data['Sand'].map({'Y': '1', 'N': '0'})\n",
    "hole_data['Sand'] = hole_data['Sand'].astype('float64')\n",
    "hole_data['Scrambling'] = hole_data['Scrambling'].map({'Y': '1', 'N': '0'})\n",
    "hole_data['Scrambling'] = hole_data['Scrambling'].astype('float64')\n",
    "hole_data['Fairways'] = hole_data['Fairways'].map({'Y': '1', 'N': '0'})\n",
    "hole_data['Fairways'] = hole_data['Fairways'].astype('float64')\n",
    "\n",
    "# Create Scores Summary Table\n",
    "scores_summary = hole_data.groupby(['Rounds'])[['Par', 'Score', 'Putts', 'Fairways', 'Greens']].sum()\n",
    "holes_played = hole_data['Rounds'].value_counts()\n",
    "relative_score = scores_summary.Score - scores_summary.Par\n",
    "relative_score.sort_index(inplace = True)\n",
    "relative_score.index = holes_played.index - 1\n",
    "holes_played.sort_index(inplace = True)\n",
    "holes_played.index = holes_played.index - 1\n",
    "scores_summary = round_data.merge(scores_summary, on='Rounds')\n",
    "scores_summary['Holes Played'] = holes_played\n",
    "scores_summary['Relative Score'] = relative_score\n",
    "\n",
    "#Remove records without stats tracked\n",
    "scores_summary.drop([3,5], inplace=True)\n",
    "scores_summary.reset_index(inplace=True)\n",
    "scores_summary.drop(['index','Rounds'], inplace=True, axis=1)\n",
    "\n",
    "#Combine 9 hole scores\n",
    "s1 = scores_summary.iloc[1,4:]\n",
    "s2 = scores_summary.iloc[11,4:]\n",
    "s2a = scores_summary.iloc[11,:4]\n",
    "s = s1 + s2\n",
    "scores_summary.iloc[11] = s2a.append(s)\n",
    "scores_summary.drop([1], inplace=True)\n",
    "\n",
    "# Add column for relative score given course difficulty\n",
    "scores_summary['Relative Score w/ Rating'] = scores_summary.Score.astype('float64') - scores_summary['Course Rating']\n",
    "\n",
    "scores_summary"
   ]
  },
  {
   "cell_type": "code",
   "execution_count": 88,
   "metadata": {},
   "outputs": [
    {
     "data": {
      "text/plain": [
       "<matplotlib.axes._subplots.AxesSubplot at 0x1a27112d10>"
      ]
     },
     "execution_count": 88,
     "metadata": {},
     "output_type": "execute_result"
    },
    {
     "data": {
      "image/png": "[encoded data removed]",
      "text/plain": [
       "<Figure size 432x288 with 1 Axes>"
      ]
     },
     "metadata": {
      "needs_background": "light"
     },
     "output_type": "display_data"
    }
   ],
   "source": [
    "# Scores plotted over time\n",
    "scores_summary.plot(x=\"Date\", y=\"Score\")"
   ]
  },
  {
   "cell_type": "code",
   "execution_count": 61,
   "metadata": {},
   "outputs": [
    {
     "data": {
      "text/plain": [
       "<matplotlib.axes._subplots.AxesSubplot at 0x1a255a5a90>"
      ]
     },
     "execution_count": 61,
     "metadata": {},
     "output_type": "execute_result"
    },
    {
     "data": {
      "image/png": "[encoded data removed]",
      "text/plain": [
       "<Figure size 432x288 with 1 Axes>"
      ]
     },
     "metadata": {
      "needs_background": "light"
     },
     "output_type": "display_data"
    }
   ],
   "source": [
    "# Distribution of scores\n",
    "scores_summary['Score'].hist()"
   ]
  },
  {
   "cell_type": "code",
   "execution_count": 62,
   "metadata": {},
   "outputs": [],
   "source": [
    "# Function to find the average of stats given a specific range of scores.\n",
    "\n",
    "def find_stats(input_score):\n",
    "    df = scores_summary[(scores_summary[\"Score\"] > input_score) & (scores_summary[\"Score\"] < input_score + 10) & (scores_summary[\"Holes Played\"] == 18)]\n",
    "    df = pd.DataFrame(df[['Putts','Fairways','Greens']].mean())\n",
    "    df.columns = [str(input_score) + 's']\n",
    "    return df"
   ]
  },
  {
   "cell_type": "code",
   "execution_count": 63,
   "metadata": {},
   "outputs": [
    {
     "data": {
      "text/html": [
       "<div>\n",
       "<style scoped>\n",
       "    .dataframe tbody tr th:only-of-type {\n",
       "        vertical-align: middle;\n",
       "    }\n",
       "\n",
       "    .dataframe tbody tr th {\n",
       "        vertical-align: top;\n",
       "    }\n",
       "\n",
       "    .dataframe thead th {\n",
       "        text-align: right;\n",
       "    }\n",
       "</style>\n",
       "<table border=\"1\" class=\"dataframe\">\n",
       "  <thead>\n",
       "    <tr style=\"text-align: right;\">\n",
       "      <th></th>\n",
       "      <th>80s</th>\n",
       "      <th>90s</th>\n",
       "    </tr>\n",
       "  </thead>\n",
       "  <tbody>\n",
       "    <tr>\n",
       "      <th>Putts</th>\n",
       "      <td>30.571429</td>\n",
       "      <td>33.8</td>\n",
       "    </tr>\n",
       "    <tr>\n",
       "      <th>Fairways</th>\n",
       "      <td>5.857143</td>\n",
       "      <td>6.2</td>\n",
       "    </tr>\n",
       "    <tr>\n",
       "      <th>Greens</th>\n",
       "      <td>4.000000</td>\n",
       "      <td>3.0</td>\n",
       "    </tr>\n",
       "  </tbody>\n",
       "</table>\n",
       "</div>"
      ],
      "text/plain": [
       "                80s   90s\n",
       "Putts     30.571429  33.8\n",
       "Fairways   5.857143   6.2\n",
       "Greens     4.000000   3.0"
      ]
     },
     "execution_count": 63,
     "metadata": {},
     "output_type": "execute_result"
    }
   ],
   "source": [
    "# Find the average stats for all scores in ranges 80-90 and 90-100\n",
    "\n",
    "shoot_80s = find_stats(input_score = 80)\n",
    "shoot_90s = find_stats(input_score = 90)\n",
    "shoot_80s.merge(shoot_90s, left_index=True, right_index = True)"
   ]
  },
  {
   "cell_type": "code",
   "execution_count": 64,
   "metadata": {},
   "outputs": [
    {
     "data": {
      "text/plain": [
       "<matplotlib.axes._subplots.AxesSubplot at 0x1a25682c10>"
      ]
     },
     "execution_count": 64,
     "metadata": {},
     "output_type": "execute_result"
    },
    {
     "data": {
      "image/png": "[encoded data removed]",
      "text/plain": [
       "<Figure size 432x288 with 2 Axes>"
      ]
     },
     "metadata": {
      "needs_background": "light"
     },
     "output_type": "display_data"
    }
   ],
   "source": [
    "# What stats are most highly correlated with score?\n",
    "correlations = scores_summary[[\"Putts\", \"Fairways\", \"Greens\", \"Score\"]].corr()\n",
    "sns.heatmap(correlations, cmap='coolwarm')"
   ]
  },
  {
   "cell_type": "code",
   "execution_count": 65,
   "metadata": {},
   "outputs": [
    {
     "data": {
      "text/plain": [
       "<matplotlib.axes._subplots.AxesSubplot at 0x1a26d5ae10>"
      ]
     },
     "execution_count": 65,
     "metadata": {},
     "output_type": "execute_result"
    },
    {
     "data": {
      "image/png": "[encoded data removed]",
      "text/plain": [
       "<Figure size 1152x216 with 3 Axes>"
      ]
     },
     "metadata": {
      "needs_background": "light"
     },
     "output_type": "display_data"
    }
   ],
   "source": [
    "# Show the relationship between each stat and the score using a scatterplot\n",
    "fig, axs = plt.subplots(1, 3, sharey=False)\n",
    "scores_summary.plot(kind=\"scatter\", x=\"Putts\", y=\"Score\", ax=axs[0], figsize=(16, 3))\n",
    "scores_summary.plot(kind=\"scatter\", x=\"Greens\", y=\"Score\", ax=axs[1], figsize=(16, 3))\n",
    "scores_summary.plot(kind=\"scatter\", x=\"Fairways\", y=\"Score\", ax=axs[2], figsize=(16, 3))"
   ]
  },
  {
   "cell_type": "markdown",
   "metadata": {},
   "source": [
    "### PGA Tour Data\n",
    "\n",
    "Using a publically available dataset with the stats and average scores for professional golfers could be a way of expanding my dataset. Each record in this PGA Tour dataset represents a player and a summary of statistics for all the rounds they played between 2010 and 2018."
   ]
  },
  {
   "cell_type": "code",
   "execution_count": 23,
   "metadata": {},
   "outputs": [],
   "source": [
    "# Import PGA Tour Data\n",
    "data = pd.read_csv('./data/pgaTourData.csv')"
   ]
  },
  {
   "cell_type": "code",
   "execution_count": 89,
   "metadata": {},
   "outputs": [],
   "source": [
    "# Remove NA records.\n",
    "cleaned_data = data[data['gir'].notna()]\n",
    "\n",
    "# Remove unecessary features\n",
    "cleaned_data = cleaned_data[['gir','Average Putts','Average Score','Fairway Percentage']]\n",
    "\n",
    "# Convert average percentages per round into averages totals per round \n",
    "cleaned_data['gir'] = (cleaned_data['gir']/100)*18\n",
    "cleaned_data['Fairway Percentage'] = (cleaned_data['Fairway Percentage']/100)*14\n",
    "cleaned_data['Holes Played'] = 18\n",
    "\n",
    "# Rename columns\n",
    "cleaned_data.columns = ['Greens','Putts','Score','Fairways','Holes Played']"
   ]
  },
  {
   "cell_type": "code",
   "execution_count": 67,
   "metadata": {},
   "outputs": [
    {
     "data": {
      "text/plain": [
       "<matplotlib.axes._subplots.AxesSubplot at 0x1a26e0e890>"
      ]
     },
     "execution_count": 67,
     "metadata": {},
     "output_type": "execute_result"
    },
    {
     "data": {
      "image/png": "[encoded data removed]",
      "text/plain": [
       "<Figure size 432x288 with 1 Axes>"
      ]
     },
     "metadata": {
      "needs_background": "light"
     },
     "output_type": "display_data"
    }
   ],
   "source": [
    "# Distrubution of the average scores for all 2312 players in the dataset\n",
    "cleaned_data['Score'].plot(kind='hist')"
   ]
  },
  {
   "cell_type": "code",
   "execution_count": 68,
   "metadata": {},
   "outputs": [
    {
     "data": {
      "text/html": [
       "<div>\n",
       "<style scoped>\n",
       "    .dataframe tbody tr th:only-of-type {\n",
       "        vertical-align: middle;\n",
       "    }\n",
       "\n",
       "    .dataframe tbody tr th {\n",
       "        vertical-align: top;\n",
       "    }\n",
       "\n",
       "    .dataframe thead th {\n",
       "        text-align: right;\n",
       "    }\n",
       "</style>\n",
       "<table border=\"1\" class=\"dataframe\">\n",
       "  <thead>\n",
       "    <tr style=\"text-align: right;\">\n",
       "      <th></th>\n",
       "      <th>Fairways</th>\n",
       "      <th>Greens</th>\n",
       "      <th>Holes Played</th>\n",
       "      <th>Putts</th>\n",
       "      <th>Score</th>\n",
       "    </tr>\n",
       "  </thead>\n",
       "  <tbody>\n",
       "    <tr>\n",
       "      <th>69</th>\n",
       "      <td>8.668312</td>\n",
       "      <td>12.181105</td>\n",
       "      <td>18.0</td>\n",
       "      <td>28.902197</td>\n",
       "      <td>69.676947</td>\n",
       "    </tr>\n",
       "    <tr>\n",
       "      <th>70</th>\n",
       "      <td>8.689830</td>\n",
       "      <td>11.945433</td>\n",
       "      <td>18.0</td>\n",
       "      <td>29.111790</td>\n",
       "      <td>70.601705</td>\n",
       "    </tr>\n",
       "    <tr>\n",
       "      <th>71</th>\n",
       "      <td>8.527404</td>\n",
       "      <td>11.660652</td>\n",
       "      <td>18.0</td>\n",
       "      <td>29.246195</td>\n",
       "      <td>71.385104</td>\n",
       "    </tr>\n",
       "    <tr>\n",
       "      <th>72</th>\n",
       "      <td>8.320646</td>\n",
       "      <td>11.344292</td>\n",
       "      <td>18.0</td>\n",
       "      <td>29.486923</td>\n",
       "      <td>72.297560</td>\n",
       "    </tr>\n",
       "    <tr>\n",
       "      <th>73</th>\n",
       "      <td>8.132400</td>\n",
       "      <td>10.861457</td>\n",
       "      <td>18.0</td>\n",
       "      <td>29.327143</td>\n",
       "      <td>73.219714</td>\n",
       "    </tr>\n",
       "    <tr>\n",
       "      <th>74</th>\n",
       "      <td>6.187300</td>\n",
       "      <td>9.720000</td>\n",
       "      <td>18.0</td>\n",
       "      <td>28.905000</td>\n",
       "      <td>74.331000</td>\n",
       "    </tr>\n",
       "  </tbody>\n",
       "</table>\n",
       "</div>"
      ],
      "text/plain": [
       "    Fairways     Greens  Holes Played      Putts      Score\n",
       "69  8.668312  12.181105          18.0  28.902197  69.676947\n",
       "70  8.689830  11.945433          18.0  29.111790  70.601705\n",
       "71  8.527404  11.660652          18.0  29.246195  71.385104\n",
       "72  8.320646  11.344292          18.0  29.486923  72.297560\n",
       "73  8.132400  10.861457          18.0  29.327143  73.219714\n",
       "74  6.187300   9.720000          18.0  28.905000  74.331000"
      ]
     },
     "execution_count": 68,
     "metadata": {},
     "output_type": "execute_result"
    }
   ],
   "source": [
    "# Function to find the average of stats given a specific score.\n",
    "\n",
    "def find_avg_stats(score):\n",
    "    stats = cleaned_data[(cleaned_data['Score'] >= score) & (cleaned_data['Score'] < (score+1))].mean()\n",
    "    return stats.rename(score)\n",
    "\n",
    "attributes = pd.DataFrame()\n",
    "for i in range(69,75):\n",
    "    stats = find_avg_stats(i)\n",
    "    attributes = attributes.append(stats)\n",
    "    \n",
    "attributes"
   ]
  },
  {
   "cell_type": "markdown",
   "metadata": {},
   "source": [
    "### Add Pro Scores to My Scores\n",
    "\n",
    "By adding in average stats for pros who shoot on average between 68 and 72, I can understand how my stats relate to theirs."
   ]
  },
  {
   "cell_type": "code",
   "execution_count": 81,
   "metadata": {},
   "outputs": [
    {
     "data": {
      "text/plain": [
       "<matplotlib.axes._subplots.AxesSubplot at 0x1a27073650>"
      ]
     },
     "execution_count": 81,
     "metadata": {},
     "output_type": "execute_result"
    },
    {
     "data": {
      "image/png": "[encoded data removed]",
      "text/plain": [
       "<Figure size 1152x216 with 3 Axes>"
      ]
     },
     "metadata": {
      "needs_background": "light"
     },
     "output_type": "display_data"
    }
   ],
   "source": [
    "fig, axs = plt.subplots(1, 3, sharey=False)\n",
    "scores_summary_added_pros.plot(kind=\"scatter\", x=\"Putts\", y=\"Score\", ax=axs[0], figsize=(16, 3))\n",
    "scores_summary_added_pros.plot(kind=\"scatter\", x=\"Greens\", y=\"Score\", ax=axs[1], figsize=(16, 3))\n",
    "scores_summary_added_pros.plot(kind=\"scatter\", x=\"Fairways\", y=\"Score\", ax=axs[2], figsize=(16, 3))"
   ]
  },
  {
   "cell_type": "markdown",
   "metadata": {},
   "source": [
    "### Fit Data With A Linear Model\n",
    "\n",
    "Understand the linear relationship between putts, greens, and fairways, with a target variable of score."
   ]
  },
  {
   "cell_type": "code",
   "execution_count": 82,
   "metadata": {},
   "outputs": [],
   "source": [
    "from sklearn.linear_model import LinearRegression"
   ]
  },
  {
   "cell_type": "code",
   "execution_count": 83,
   "metadata": {},
   "outputs": [],
   "source": [
    "def fit_and_score(df,target):\n",
    "\n",
    "    lr = LinearRegression()\n",
    "\n",
    "    features = ['Putts','Fairways','Greens']\n",
    "    X = df[features]\n",
    "    y = df[target]\n",
    "    lr.fit(X,y)\n",
    "    y_pred = lr.predict(X)\n",
    "    r2 = lr.score(X,y)\n",
    "    coefficients = lr.coef_\n",
    "    intercept = lr.intercept_\n",
    "    frame = pd.DataFrame({'Original': y,'Predicted': y_pred})\n",
    "    \n",
    "    print('r2:'+str(r2))\n",
    "    print('coeffs:'+str(coefficients))\n",
    "    print('intercept:'+str(intercept))\n",
    "    \n",
    "    return {'model':lr, 'vals': frame,'score': r2, 'coeffs': coefficients}"
   ]
  },
  {
   "cell_type": "code",
   "execution_count": 93,
   "metadata": {},
   "outputs": [
    {
     "name": "stdout",
     "output_type": "stream",
     "text": [
      "r2:0.5040370537448309\n",
      "coeffs:[ 1.03747011  0.27190258 -2.00884601]\n",
      "intercept:62.37102829762922\n"
     ]
    }
   ],
   "source": [
    "test1 = fit_and_score(scores_summary,'Score')"
   ]
  },
  {
   "cell_type": "code",
   "execution_count": 85,
   "metadata": {},
   "outputs": [
    {
     "name": "stdout",
     "output_type": "stream",
     "text": [
      "r2:0.91387551657205\n",
      "coeffs:[ 1.04414357  0.26694735 -2.03562599]\n",
      "intercept:62.28320292506628\n"
     ]
    }
   ],
   "source": [
    "test2 = fit_and_score(scores_summary_added_pros,'Score')"
   ]
  },
  {
   "cell_type": "code",
   "execution_count": 86,
   "metadata": {},
   "outputs": [
    {
     "name": "stdout",
     "output_type": "stream",
     "text": [
      "r2:0.4908684019576317\n",
      "coeffs:[ 1.17435545  0.14283869 -2.02812479]\n",
      "intercept:-12.462763219803524\n"
     ]
    }
   ],
   "source": [
    "test3 = fit_and_score(scores_summary,'Relative Score w/ Rating')"
   ]
  },
  {
   "cell_type": "markdown",
   "metadata": {},
   "source": [
    "$$y = 1.0p + .27f - 2.0g + 62$$"
   ]
  },
  {
   "cell_type": "markdown",
   "metadata": {},
   "source": [
    "### Optimization\n",
    "\n",
    "Add more scores of the professionals to my dataset to add variance\n",
    "Add the difficulty of the course. Use the course rating to create a relative score\n",
    "Fit a random forest regressor. Might improve accuracy\n",
    "Optimization. Use SciPy libraries to solve equation\n"
   ]
  },
  {
   "cell_type": "code",
   "execution_count": 50,
   "metadata": {},
   "outputs": [],
   "source": [
    "c = [1.04414357, 0.26694735, -2.03562599]\n",
    "A = [[-3, 1], [1, 2]]\n",
    "#b = [6, 4]\n",
    "putts_bounds = (31, 31)\n",
    "fairways_bounds = (7, 7)\n",
    "greens_bounds = (5, 5)\n",
    "\n",
    "from scipy.optimize import linprog\n",
    "res = linprog(c,  bounds=[putts_bounds, fairways_bounds, greens_bounds])"
   ]
  },
  {
   "cell_type": "code",
   "execution_count": 51,
   "metadata": {},
   "outputs": [
    {
     "name": "stdout",
     "output_type": "stream",
     "text": [
      "     con: array([], dtype=float64)\n",
      "     fun: 24.058952169999998\n",
      " message: 'The solution was determined in presolve as there are no non-trivial constraints.'\n",
      "     nit: 0\n",
      "   slack: array([], dtype=float64)\n",
      "  status: 0\n",
      " success: True\n",
      "       x: array([31.,  7.,  5.])\n"
     ]
    }
   ],
   "source": [
    "print(res)"
   ]
  }
 ],
 "metadata": {
  "kernelspec": {
   "display_name": "Python 3",
   "language": "python",
   "name": "python3"
  },
  "language_info": {
   "codemirror_mode": {
    "name": "ipython",
    "version": 3
   },
   "file_extension": ".py",
   "mimetype": "text/x-python",
   "name": "python",
   "nbconvert_exporter": "python",
   "pygments_lexer": "ipython3",
   "version": "3.7.6"
  }
 },
 "nbformat": 4,
 "nbformat_minor": 4
}
